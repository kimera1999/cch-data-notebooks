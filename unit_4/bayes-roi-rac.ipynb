{
 "cells": [
  {
   "cell_type": "markdown",
   "metadata": {},
   "source": [
    "# <center>BAYESIAN THEOREM</br><i>For Discrete Events</i></center>\n",
    "\n",
    "# I. Một vài định nghĩa\n",
    "\n",
    "- **P(A|B)**: Xác suất của event A trong điều kiện B\n",
    "- **A và B độc lập nghĩa là**: P(A|B) = P(A)\n",
    "- **P(A $\\cap$ B)**: Xác suất vừa event A vừa event B, tiếng anh là \"and\", \"intersect\"\n",
    "- **P(A $\\cup$ B)**: Xác suất event A hoặc event B, tiếng anh là \"or\", \"union\""
   ]
  },
  {
   "cell_type": "markdown",
   "metadata": {},
   "source": [
    "# II. Bayesian theorem\n",
    "\n",
    "$$ P(A|B) = \\frac{P(B \\cap A)}{P(B)} = \\frac{P(B|A)\\times P(A)}{P(B)}$$\n",
    "\n",
    "$$ P(B) = P(B|A)P(A) + P(B|A^c)P(A^c)$$\n",
    "\n",
    "A$^c$ là complement event của A => P(A$^c$) = 1 - P(A)  \n",
    "Từ công thức, ta có: \n",
    "$$ P(A|B)\\times P(B) = P(B|A)\\times P(A) $$"
   ]
  },
  {
   "cell_type": "markdown",
   "metadata": {},
   "source": [
    "# III. Bayesian theorem với nhiều Events \n",
    "\n",
    "$$ P(A_1|B) = \\frac{P(B|A_1)\\times P(A_1)}{P(B)} $$\n",
    "\n",
    "$$ P(B) = P(B|A_1)P(A_1) + P(B|A_2)P(A_2) + \\dots + P(B|A_n)P(A_n)$$\n",
    "\n",
    "$$ \\text{or}\\: P(B) = \\sum_{i=1}^{n}P(B|A_n)P(A_n) $$\n",
    "\n",
    "**Điều kiện:** Các event $A_i$ không overlap với nhau và $\\sum_{i=1}^{n}P(A_i)=1$"
   ]
  },
  {
   "cell_type": "markdown",
   "metadata": {},
   "source": [
    "# III. Thực hành\n",
    "\n",
    "Ví dụ:  \n",
    "    Test nhanh HIV có độ nhạy là 0.977, độ đặc hiệu là 0.926, tỉ lệ HIV của quần thể là 0.0026.  \n",
    "**Câu hỏi: Vậy một người có xác suất HIV là bao nhiêu khi test nhanh (+)?**  \n",
    "Gọi:\n",
    "- P(HIV) = 0.0026\n",
    "- P(+ | HIV) = 0.977\n",
    "- P(- | noHIV) = 0.928\n",
    "\n",
    "$$ P(\\text{HIV}|+) = \\frac{P(+|\\text{HIV})P(\\text{HIV})}{P(+)} = \\frac{P(+|\\text{HIV})P(\\text{HIV})}{P(+ | \\text{HIV})P(\\text{HIV}) + P(+ | \\text{noHIV})P(\\text{noHIV})}$$  \n",
    "\n",
    "- P(+ | noHIV) = 1 - p(- | noHIV) = 1 - 0.928 = 0.072  \n",
    "- P(noHIV) = 1 - p(HIV) = 1 - 0.0026 = 0.9974\n",
    "\n",
    "$$ P(\\text{HIV}|+) = \\frac{0.977*0.0026} {0.977*0.0026 + 0.072*0.9974} = 3\\%$$  \n",
    "\n",
    "**=> Khả năng nhiễm HIV thấp như vậy có vẻ hơi mâu thuẫn với độ nhạy, độ đặc hiệu nhưng thực sự như vậy là do tỉ lệ nhiễm HIV của quần thể là quá nhỏ.**"
   ]
  }
 ],
 "metadata": {
  "kernelspec": {
   "display_name": "Python 3",
   "language": "python",
   "name": "python3"
  },
  "language_info": {
   "codemirror_mode": {
    "name": "ipython",
    "version": 3
   },
   "file_extension": ".py",
   "mimetype": "text/x-python",
   "name": "python",
   "nbconvert_exporter": "python",
   "pygments_lexer": "ipython3",
   "version": "3.7.6"
  }
 },
 "nbformat": 4,
 "nbformat_minor": 4
}
