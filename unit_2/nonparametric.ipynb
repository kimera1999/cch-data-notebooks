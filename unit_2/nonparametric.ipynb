{
 "cells": [
  {
   "cell_type": "markdown",
   "metadata": {},
   "source": [
    "# NONPARAMETRIC TESTS\n",
    "BS. Vương Kiến Thanh\n",
    "\n",
    "# I. Tại sao lại dùng nonparametric\n",
    "\n",
    "> - Tại USA, bệnh hiếm là bệnh có prevalance <200.000 người.  \n",
    "> - Tại Europe, bệnh hiếm là bệnh có prevalance <50.000 người.  \n",
    "> - Orphan drugs là thuốc dùng để điều trị bệnh hiếm.  \n",
    "> - Những nghiên cứu về orphan drugs ( đa số được tài trợ bởi gov ) thường có mẫu rất nhỏ.\n"
   ]
  },
  {
   "cell_type": "markdown",
   "metadata": {},
   "source": [
    "## a. Cỡ mẫu\n",
    "Ở những bài trước, ta nói về ttest, chisquare, anova,.. Đó là những phép test có hệ số ( parametric tests ).  \n",
    "\n",
    "Những test đó muốn sử dụng phải đạt được điều kiện nhất định, ví dụ như trong ttest thì phân phối của biến phải là normal; hoặc là cỡ mẫu phải thật sự lớn, theo Central Limit Theorem, thì trung bình của biến theo normal,...  \n",
    "\n",
    "Tuy nhiên, rất nhiều nghiên cứu có cỡ mẫu nhỏ, do đó ta phải dùng nonparametric tests.  \n",
    "\n",
    "Và cũng vì thế, kết luận rút ra từ nonparametric tests cũng không mạnh bằng parametric tests."
   ]
  },
  {
   "cell_type": "markdown",
   "metadata": {},
   "source": [
    "## b. Biến liên tục không normal\n",
    "Để biết biến có normal hay không, ta có thể:\n",
    "- Plot histogram lên, không đủ data thì lấy thêm từ nguồn khác.\n",
    "- Test for normality: [shapiro](https://docs.scipy.org/doc/scipy/reference/generated/scipy.stats.shapiro.html#scipy.stats.shapiro), [omnibus](https://docs.scipy.org/doc/scipy/reference/generated/scipy.stats.normaltest.html#scipy.stats.normaltest)\n",
    "\n",
    "Tuy nhiên, với cỡ mẫu nhỏ thì các tests for normality này nhiều khi không chính xác ( Power thấp)  \n",
    "\n",
    "Có nhiều trường hợp biến không normal, như Likert-scale trong đau, Glasgow coma scale, APGAR, thời gian nằm viện của những bệnh phức tạp,... Những trường hợp ta không thể dùng parametric được, nên chỉ còn cách dùng nonparam thôi."
   ]
  },
  {
   "cell_type": "markdown",
   "metadata": {},
   "source": [
    "## c. Biến xếp rank\n",
    "Như là phân độ tăng huyết áp, phân nhóm tổn thương,..."
   ]
  },
  {
   "cell_type": "markdown",
   "metadata": {},
   "source": [
    "# II. Null hypothesis của nonparametric tests\n",
    "\n",
    "Trong parametric thì $H_0$ thường nói về thông số của 2 phân phối, như $\\mu_1 =\\mu_2$,..  \n",
    "Trong nonparam thì $H_0$ thường khái quát hơn, như median của 2 mẫu"
   ]
  },
  {
   "cell_type": "markdown",
   "metadata": {},
   "source": [
    "# III. 2 mẫu độc lập: Mann–Whitney U \n",
    "\n",
    "**Kỹ thuật:**\n",
    "- Xếp hạng (rank) cho biến quan tâm thay vì dùng dữ liệu thô\n",
    "- Đầu tiên ta dồn data của 2 nhóm chung\n",
    "- Sau đó xếp rank từ nhỏ nhất đến lớn nhất\n",
    "- Nếu trùng rank ta có thể chia đều rank ra, ví dụ rank 1, 2, 3, 4, <font color='red'>5.5, 5.5 </font>, 7  \n",
    "- Sum ranks của nhóm 1 = R_1, sum ranks của nhóm 2 = R_2\n",
    "- U = min ( $n_1n_2 +\\frac{n_i(n_i+1)}{2}-R_i$)\n",
    "- Sau đó so sánh U với [bảng để tim ra critical value](https://math.usask.ca/~laverty/S245/Tables/wmw.pdf)\n",
    "- Nếu U < criticalvalue thì reject $H_0$\n",
    "- U càng nhỏ thì càng có ý nghĩa thống kê\n",
    "\n",
    "## Ví dụ 1:\n",
    "Một thuốc đang được nghiên cứu Pha II về điều trị triệu chứng hen phế quản.   \n",
    "n=10, 5 dùng thuốc mới và 5 dùng thuốc placebo.  \n",
    "Đánh giá outcome bằng số cơn hen cấp trong một tuần."
   ]
  },
  {
   "cell_type": "code",
   "execution_count": 1,
   "metadata": {},
   "outputs": [],
   "source": [
    "# import library cần thiết\n",
    "import pandas as pd\n",
    "import numpy as np\n",
    "import matplotlib.pyplot as plt\n",
    "import scipy.stats as st\n",
    "\n",
    "# một số func lặp lại\n",
    "def flatten(df):\n",
    "    return pd.concat([ row[1] for row in df.iterrows()  ], ignore_index=True).dropna().astype('int32')\n",
    "\n",
    "def histogram(df,start=0, step=1):\n",
    "    df.plot(kind='hist', bins=np.arange(start, df.max()+2*step, step) - step/2, edgecolor='black');\n",
    "    plt.xticks(range(start, df.max()+1, step))"
   ]
  },
  {
   "cell_type": "code",
   "execution_count": 2,
   "metadata": {},
   "outputs": [
    {
     "data": {
      "text/html": [
       "<div>\n",
       "<style scoped>\n",
       "    .dataframe tbody tr th:only-of-type {\n",
       "        vertical-align: middle;\n",
       "    }\n",
       "\n",
       "    .dataframe tbody tr th {\n",
       "        vertical-align: top;\n",
       "    }\n",
       "\n",
       "    .dataframe thead th {\n",
       "        text-align: right;\n",
       "    }\n",
       "</style>\n",
       "<table border=\"1\" class=\"dataframe\">\n",
       "  <thead>\n",
       "    <tr style=\"text-align: right;\">\n",
       "      <th></th>\n",
       "      <th>0</th>\n",
       "      <th>1</th>\n",
       "      <th>2</th>\n",
       "      <th>3</th>\n",
       "      <th>4</th>\n",
       "    </tr>\n",
       "  </thead>\n",
       "  <tbody>\n",
       "    <tr>\n",
       "      <th>Placebo</th>\n",
       "      <td>7</td>\n",
       "      <td>5</td>\n",
       "      <td>6</td>\n",
       "      <td>4</td>\n",
       "      <td>12</td>\n",
       "    </tr>\n",
       "    <tr>\n",
       "      <th>New drug</th>\n",
       "      <td>3</td>\n",
       "      <td>6</td>\n",
       "      <td>4</td>\n",
       "      <td>2</td>\n",
       "      <td>1</td>\n",
       "    </tr>\n",
       "  </tbody>\n",
       "</table>\n",
       "</div>"
      ],
      "text/plain": [
       "          0  1  2  3   4\n",
       "Placebo   7  5  6  4  12\n",
       "New drug  3  6  4  2   1"
      ]
     },
     "execution_count": 2,
     "metadata": {},
     "output_type": "execute_result"
    }
   ],
   "source": [
    "df = pd.DataFrame([[7,5,6,4,12], [3,6,4,2,1]], index=['Placebo', 'New drug'])\n",
    "df"
   ]
  },
  {
   "cell_type": "markdown",
   "metadata": {},
   "source": [
    "Câu hỏi đặt ra là có sự khác nhau khi có dùng thuốc mới không?  \n",
    "Nhìn tổng quát thì ta nhận ra nhóm xài placebo bị nhiều cơn hen hơn nhóm dùng thuốc mới.  \n",
    "Sự khác nhau này có ý nghĩa không?  \n",
    "\n",
    "- Cỡ mẫu nhỏ, n=10\n",
    "- Normality = vẽ biểu đồ"
   ]
  },
  {
   "cell_type": "code",
   "execution_count": 3,
   "metadata": {},
   "outputs": [
    {
     "data": {
      "image/png": "[encoded data removed]",
      "text/plain": [
       "<Figure size 432x288 with 1 Axes>"
      ]
     },
     "metadata": {
      "needs_background": "light"
     },
     "output_type": "display_data"
    }
   ],
   "source": [
    "histogram(flatten(df))"
   ]
  },
  {
   "cell_type": "markdown",
   "metadata": {},
   "source": [
    "## Vậy dùng Mann Whitney U\n",
    "\n",
    "$H_0$: 2 mẫu này cùng một phân phối  \n",
    "$H_1$: Data ở một mẫu lớn hơn mẫu còn lại  \n",
    "$\\alpha = 0.05$  \n",
    "vì mannwhitneyu là twotail nên pval phải <0.025 mới có ý nghĩa."
   ]
  },
  {
   "cell_type": "code",
   "execution_count": 4,
   "metadata": {},
   "outputs": [
    {
     "data": {
      "text/plain": [
       "array([ 9. ,  6. ,  7.5,  4.5, 10. ,  3. ,  7.5,  4.5,  2. ,  1. ])"
      ]
     },
     "execution_count": 4,
     "metadata": {},
     "output_type": "execute_result"
    }
   ],
   "source": [
    "# xếp rank data\n",
    "df_rank = st.rankdata(df)\n",
    "df_rank"
   ]
  },
  {
   "cell_type": "code",
   "execution_count": 5,
   "metadata": {},
   "outputs": [
    {
     "data": {
      "text/plain": [
       "(37.0, 18.0)"
      ]
     },
     "execution_count": 5,
     "metadata": {},
     "output_type": "execute_result"
    }
   ],
   "source": [
    "R_1 = sum (df_rank[:5])\n",
    "R_2 = sum (df_rank[5:])\n",
    "R_1, R_2"
   ]
  },
  {
   "cell_type": "code",
   "execution_count": 6,
   "metadata": {},
   "outputs": [
    {
     "data": {
      "text/plain": [
       "(5, 5)"
      ]
     },
     "execution_count": 6,
     "metadata": {},
     "output_type": "execute_result"
    }
   ],
   "source": [
    "n1 = len(df_rank[:5])\n",
    "n2 = len(df_rank[5:])\n",
    "n1, n2"
   ]
  },
  {
   "cell_type": "code",
   "execution_count": 7,
   "metadata": {},
   "outputs": [
    {
     "data": {
      "text/plain": [
       "(3.0, 22.0)"
      ]
     },
     "execution_count": 7,
     "metadata": {},
     "output_type": "execute_result"
    }
   ],
   "source": [
    "U_1 = n1*n2 + n1*(n1+1)/2 - R_1\n",
    "U_2 = n1*n2 + n2*(n2+1)/2 - R_2\n",
    "U_1, U_2 "
   ]
  },
  {
   "cell_type": "markdown",
   "metadata": {},
   "source": [
    "U = min (u_1, u_2) => U=3  \n",
    "[Criticalvalue](https://math.usask.ca/~laverty/S245/Tables/wmw.pdf) của n1=5, n2=5 là 2  \n",
    "=> **3>2, 2 mẫu khác nhau không có ý nghĩa thống kê**"
   ]
  },
  {
   "cell_type": "code",
   "execution_count": 8,
   "metadata": {},
   "outputs": [
    {
     "data": {
      "text/plain": [
       "MannwhitneyuResult(statistic=3.0, pvalue=0.029276315078413294)"
      ]
     },
     "execution_count": 8,
     "metadata": {},
     "output_type": "execute_result"
    }
   ],
   "source": [
    "# Dùng scipy.stats.mannwhitneyu\n",
    "st.mannwhitneyu(x=df.loc['Placebo'],\n",
    "                y=df.loc['New drug'])"
   ]
  },
  {
   "cell_type": "markdown",
   "metadata": {},
   "source": [
    "**pval=0.03 >0.025, vậy không reject $H_0$, 2 mẫu này khác nhau KHÔNG có ý nghĩa thống kê.**"
   ]
  },
  {
   "cell_type": "markdown",
   "metadata": {},
   "source": [
    "## Ví dụ 2: \n",
    "Một nghiên cứu về chương trình sanh con mới.  \n",
    "n=15"
   ]
  },
  {
   "cell_type": "code",
   "execution_count": 9,
   "metadata": {},
   "outputs": [
    {
     "data": {
      "text/html": [
       "<div>\n",
       "<style scoped>\n",
       "    .dataframe tbody tr th:only-of-type {\n",
       "        vertical-align: middle;\n",
       "    }\n",
       "\n",
       "    .dataframe tbody tr th {\n",
       "        vertical-align: top;\n",
       "    }\n",
       "\n",
       "    .dataframe thead th {\n",
       "        text-align: right;\n",
       "    }\n",
       "</style>\n",
       "<table border=\"1\" class=\"dataframe\">\n",
       "  <thead>\n",
       "    <tr style=\"text-align: right;\">\n",
       "      <th></th>\n",
       "      <th>0</th>\n",
       "      <th>1</th>\n",
       "      <th>2</th>\n",
       "      <th>3</th>\n",
       "      <th>4</th>\n",
       "      <th>5</th>\n",
       "      <th>6</th>\n",
       "      <th>7</th>\n",
       "    </tr>\n",
       "  </thead>\n",
       "  <tbody>\n",
       "    <tr>\n",
       "      <th>Usual care</th>\n",
       "      <td>8</td>\n",
       "      <td>7</td>\n",
       "      <td>6</td>\n",
       "      <td>2</td>\n",
       "      <td>5</td>\n",
       "      <td>8</td>\n",
       "      <td>7</td>\n",
       "      <td>3.0</td>\n",
       "    </tr>\n",
       "    <tr>\n",
       "      <th>New program</th>\n",
       "      <td>9</td>\n",
       "      <td>8</td>\n",
       "      <td>7</td>\n",
       "      <td>8</td>\n",
       "      <td>10</td>\n",
       "      <td>9</td>\n",
       "      <td>6</td>\n",
       "      <td>NaN</td>\n",
       "    </tr>\n",
       "  </tbody>\n",
       "</table>\n",
       "</div>"
      ],
      "text/plain": [
       "             0  1  2  3   4  5  6    7\n",
       "Usual care   8  7  6  2   5  8  7  3.0\n",
       "New program  9  8  7  8  10  9  6  NaN"
      ]
     },
     "execution_count": 9,
     "metadata": {},
     "output_type": "execute_result"
    }
   ],
   "source": [
    "df2 = pd.DataFrame([[8,7,6,2,5,8,7,3], [9,8,7,8,10,9,6]], index=['Usual care', 'New program'])\n",
    "df2"
   ]
  },
  {
   "cell_type": "code",
   "execution_count": 10,
   "metadata": {},
   "outputs": [
    {
     "data": {
      "image/png": "[encoded data removed]",
      "text/plain": [
       "<Figure size 432x288 with 1 Axes>"
      ]
     },
     "metadata": {
      "needs_background": "light"
     },
     "output_type": "display_data"
    }
   ],
   "source": [
    "histogram(flatten(df2))"
   ]
  },
  {
   "cell_type": "code",
   "execution_count": 11,
   "metadata": {},
   "outputs": [
    {
     "data": {
      "text/plain": [
       "MannwhitneyuResult(statistic=9.5, pvalue=0.009690166341346689)"
      ]
     },
     "execution_count": 11,
     "metadata": {},
     "output_type": "execute_result"
    }
   ],
   "source": [
    "st.mannwhitneyu(x=df2.iloc[0],\n",
    "                y=df2.iloc[1])"
   ]
  },
  {
   "cell_type": "markdown",
   "metadata": {},
   "source": [
    "**pval=0.009, vậy reject $H_0$, 2 mẫu này khác nhau có ý nghĩa thống kê.**"
   ]
  },
  {
   "cell_type": "markdown",
   "metadata": {},
   "source": [
    "## Ví dụ 3:\n",
    "Một Antiretroviral therapy mới so với ARV therapy tiêu chuẩn.  \n",
    "Bệnh nhân được theo dõi trong 3 tháng.  \n",
    "Biến outcome là viral load, tức là số lượng HIV copies/ 1ml máu.  \n",
    "n=30"
   ]
  },
  {
   "cell_type": "code",
   "execution_count": 12,
   "metadata": {},
   "outputs": [
    {
     "data": {
      "text/html": [
       "<div>\n",
       "<style scoped>\n",
       "    .dataframe tbody tr th:only-of-type {\n",
       "        vertical-align: middle;\n",
       "    }\n",
       "\n",
       "    .dataframe tbody tr th {\n",
       "        vertical-align: top;\n",
       "    }\n",
       "\n",
       "    .dataframe thead th {\n",
       "        text-align: right;\n",
       "    }\n",
       "</style>\n",
       "<table border=\"1\" class=\"dataframe\">\n",
       "  <thead>\n",
       "    <tr style=\"text-align: right;\">\n",
       "      <th></th>\n",
       "      <th>0</th>\n",
       "      <th>1</th>\n",
       "      <th>2</th>\n",
       "      <th>3</th>\n",
       "      <th>4</th>\n",
       "      <th>5</th>\n",
       "      <th>6</th>\n",
       "      <th>7</th>\n",
       "      <th>8</th>\n",
       "      <th>9</th>\n",
       "      <th>10</th>\n",
       "      <th>11</th>\n",
       "      <th>12</th>\n",
       "      <th>13</th>\n",
       "      <th>14</th>\n",
       "    </tr>\n",
       "  </thead>\n",
       "  <tbody>\n",
       "    <tr>\n",
       "      <th>Standard ARV therapy</th>\n",
       "      <td>7500</td>\n",
       "      <td>8000</td>\n",
       "      <td>2000</td>\n",
       "      <td>550</td>\n",
       "      <td>1250</td>\n",
       "      <td>1000</td>\n",
       "      <td>2250</td>\n",
       "      <td>6800</td>\n",
       "      <td>3400</td>\n",
       "      <td>6300</td>\n",
       "      <td>9100</td>\n",
       "      <td>970</td>\n",
       "      <td>1040</td>\n",
       "      <td>670</td>\n",
       "      <td>400</td>\n",
       "    </tr>\n",
       "    <tr>\n",
       "      <th>New ARV therapy</th>\n",
       "      <td>400</td>\n",
       "      <td>250</td>\n",
       "      <td>800</td>\n",
       "      <td>1400</td>\n",
       "      <td>8000</td>\n",
       "      <td>7400</td>\n",
       "      <td>1020</td>\n",
       "      <td>6000</td>\n",
       "      <td>920</td>\n",
       "      <td>1420</td>\n",
       "      <td>2700</td>\n",
       "      <td>4200</td>\n",
       "      <td>5200</td>\n",
       "      <td>4100</td>\n",
       "      <td>undetectable</td>\n",
       "    </tr>\n",
       "  </tbody>\n",
       "</table>\n",
       "</div>"
      ],
      "text/plain": [
       "                         0     1     2     3     4     5     6     7     8  \\\n",
       "Standard ARV therapy  7500  8000  2000   550  1250  1000  2250  6800  3400   \n",
       "New ARV therapy        400   250   800  1400  8000  7400  1020  6000   920   \n",
       "\n",
       "                         9    10    11    12    13            14  \n",
       "Standard ARV therapy  6300  9100   970  1040   670           400  \n",
       "New ARV therapy       1420  2700  4200  5200  4100  undetectable  "
      ]
     },
     "execution_count": 12,
     "metadata": {},
     "output_type": "execute_result"
    }
   ],
   "source": [
    "df3 = pd.DataFrame([[7500,8000,2000,550,1250, 1000,2250,6800,3400,6300,9100,970,1040,670,400],                    \n",
    "                    [400,250,800,1400,8000,7400,1020,6000,920,1420,2700,4200,5200,4100,'undetectable']],\n",
    "                   index=['Standard ARV therapy', 'New ARV therapy'])\n",
    "df3"
   ]
  },
  {
   "cell_type": "code",
   "execution_count": 13,
   "metadata": {},
   "outputs": [
    {
     "data": {
      "image/png": "[encoded data removed]",
      "text/plain": [
       "<Figure size 720x216 with 1 Axes>"
      ]
     },
     "metadata": {
      "needs_background": "light"
     },
     "output_type": "display_data"
    }
   ],
   "source": [
    "df3.replace('undetectable',0,inplace=True)\n",
    "plt.figure(figsize=(10,3))\n",
    "histogram(flatten(df3), step=500)"
   ]
  },
  {
   "cell_type": "code",
   "execution_count": 14,
   "metadata": {},
   "outputs": [
    {
     "data": {
      "text/plain": [
       "MannwhitneyuResult(statistic=100.0, pvalue=0.30929573792728193)"
      ]
     },
     "execution_count": 14,
     "metadata": {},
     "output_type": "execute_result"
    }
   ],
   "source": [
    "st.mannwhitneyu(x=df3.iloc[0],\n",
    "                y=df3.iloc[1])"
   ]
  },
  {
   "cell_type": "markdown",
   "metadata": {},
   "source": [
    "**Pval=0.31, không reject được $H_0$ => hiệu quả của new ARV therapy và standard ARV therapy khác nhau không có ý nghĩa thống kê.**"
   ]
  },
  {
   "cell_type": "markdown",
   "metadata": {},
   "source": [
    "# IV. Hai mẫu liên quan: Wilcoxon sign test\n",
    "\n",
    "**Kỹ thuật:**\n",
    "- Tính sự khác nhau giữa 2 mẫu\n",
    "- Sẽ có kết quả con số âm hoặc dương\n",
    "- Xếp rank các giá trị tuyệt đối của các sự khác nhau\n",
    "- Sau đó, đánh đấu âm dương cho các rank đó tuỳ vào dấu âm dương của sự khác nhau\n",
    "- Tính W = min (sum(positive rank) ; sum(negative rank) )\n",
    "- W < [critical value](http://users.sussex.ac.uk/~grahamh/RM1web/WilcoxonTable2005.pdf)  thì reject $H_0$\n",
    "\n",
    "## Ví dụ 1:\n",
    "Một nghiên cứu lâm sàng về hiệu quả của thuốc mới làm giảm hành vi lặp lại ở trẻ tự kỷ.  \n",
    "n=8  \n",
    "Mỗi trẻ được theo dõi bởi psycologist trong 3 tiếng, cả trước và sau khi dùng thuốc 1 tuần.  \n",
    "Biến nghiên cứu có range 0-100, là tỉ lệ thời gian trẻ có hành vi lặp lại trong vòng 3 tiếng theo dõi.  "
   ]
  },
  {
   "cell_type": "code",
   "execution_count": 15,
   "metadata": {},
   "outputs": [
    {
     "data": {
      "text/html": [
       "<div>\n",
       "<style scoped>\n",
       "    .dataframe tbody tr th:only-of-type {\n",
       "        vertical-align: middle;\n",
       "    }\n",
       "\n",
       "    .dataframe tbody tr th {\n",
       "        vertical-align: top;\n",
       "    }\n",
       "\n",
       "    .dataframe thead th {\n",
       "        text-align: right;\n",
       "    }\n",
       "</style>\n",
       "<table border=\"1\" class=\"dataframe\">\n",
       "  <thead>\n",
       "    <tr style=\"text-align: right;\">\n",
       "      <th>child</th>\n",
       "      <th>1</th>\n",
       "      <th>2</th>\n",
       "      <th>3</th>\n",
       "      <th>4</th>\n",
       "      <th>5</th>\n",
       "      <th>6</th>\n",
       "      <th>7</th>\n",
       "      <th>8</th>\n",
       "    </tr>\n",
       "  </thead>\n",
       "  <tbody>\n",
       "    <tr>\n",
       "      <th>Before</th>\n",
       "      <td>85</td>\n",
       "      <td>70</td>\n",
       "      <td>40</td>\n",
       "      <td>65</td>\n",
       "      <td>80</td>\n",
       "      <td>75</td>\n",
       "      <td>55</td>\n",
       "      <td>20</td>\n",
       "    </tr>\n",
       "    <tr>\n",
       "      <th>After</th>\n",
       "      <td>75</td>\n",
       "      <td>50</td>\n",
       "      <td>50</td>\n",
       "      <td>40</td>\n",
       "      <td>20</td>\n",
       "      <td>65</td>\n",
       "      <td>40</td>\n",
       "      <td>25</td>\n",
       "    </tr>\n",
       "  </tbody>\n",
       "</table>\n",
       "</div>"
      ],
      "text/plain": [
       "child    1   2   3   4   5   6   7   8\n",
       "Before  85  70  40  65  80  75  55  20\n",
       "After   75  50  50  40  20  65  40  25"
      ]
     },
     "execution_count": 15,
     "metadata": {},
     "output_type": "execute_result"
    }
   ],
   "source": [
    "df4 = pd.DataFrame([[85, 70, 40, 65, 80, 75, 55, 20],\n",
    "                    [75, 50, 50, 40, 20, 65, 40, 25]],\n",
    "                   index=['Before', 'After'], columns=range(1,9))\n",
    "df4.columns.name='child'\n",
    "df4"
   ]
  },
  {
   "cell_type": "code",
   "execution_count": 16,
   "metadata": {},
   "outputs": [
    {
     "name": "stderr",
     "output_type": "stream",
     "text": [
      "/Volumes/DATA/anaconda3/envs/jupyter/lib/python3.7/site-packages/scipy/stats/morestats.py:2879: UserWarning: Sample size too small for normal approximation.\n",
      "  warnings.warn(\"Sample size too small for normal approximation.\")\n"
     ]
    },
    {
     "data": {
      "text/plain": [
       "WilcoxonResult(statistic=4.0, pvalue=0.04882999045688487)"
      ]
     },
     "execution_count": 16,
     "metadata": {},
     "output_type": "execute_result"
    }
   ],
   "source": [
    "st.wilcoxon(x=df4.iloc[0],\n",
    "            y=df4.iloc[1])"
   ]
  },
  {
   "cell_type": "markdown",
   "metadata": {},
   "source": [
    "**pval=0.049 < 0.05, median của thời gian có hành vi lặp lại, trước và sau thuốc mới khác nhau có ý nghĩa thống kê.**"
   ]
  },
  {
   "cell_type": "markdown",
   "metadata": {},
   "source": [
    "## Ví dụ 2:\n",
    "Nghiên cứu về tập thể dục làm giảm huyết áp tâm thu  \n",
    "n=15  \n",
    "Bn được tập thể dục theo một bài chung, làm 3 lần mỗi tuần trong 6 tuần."
   ]
  },
  {
   "cell_type": "code",
   "execution_count": 17,
   "metadata": {},
   "outputs": [
    {
     "data": {
      "text/html": [
       "<div>\n",
       "<style scoped>\n",
       "    .dataframe tbody tr th:only-of-type {\n",
       "        vertical-align: middle;\n",
       "    }\n",
       "\n",
       "    .dataframe tbody tr th {\n",
       "        vertical-align: top;\n",
       "    }\n",
       "\n",
       "    .dataframe thead th {\n",
       "        text-align: right;\n",
       "    }\n",
       "</style>\n",
       "<table border=\"1\" class=\"dataframe\">\n",
       "  <thead>\n",
       "    <tr style=\"text-align: right;\">\n",
       "      <th>Patient</th>\n",
       "      <th>1</th>\n",
       "      <th>2</th>\n",
       "      <th>3</th>\n",
       "      <th>4</th>\n",
       "      <th>5</th>\n",
       "      <th>6</th>\n",
       "      <th>7</th>\n",
       "      <th>8</th>\n",
       "      <th>9</th>\n",
       "      <th>10</th>\n",
       "      <th>11</th>\n",
       "      <th>12</th>\n",
       "      <th>13</th>\n",
       "      <th>14</th>\n",
       "      <th>15</th>\n",
       "    </tr>\n",
       "  </thead>\n",
       "  <tbody>\n",
       "    <tr>\n",
       "      <th>Before</th>\n",
       "      <td>125</td>\n",
       "      <td>132</td>\n",
       "      <td>138</td>\n",
       "      <td>120</td>\n",
       "      <td>125</td>\n",
       "      <td>127</td>\n",
       "      <td>136</td>\n",
       "      <td>139</td>\n",
       "      <td>131</td>\n",
       "      <td>132</td>\n",
       "      <td>135</td>\n",
       "      <td>136</td>\n",
       "      <td>128</td>\n",
       "      <td>127</td>\n",
       "      <td>130</td>\n",
       "    </tr>\n",
       "    <tr>\n",
       "      <th>After</th>\n",
       "      <td>118</td>\n",
       "      <td>134</td>\n",
       "      <td>130</td>\n",
       "      <td>124</td>\n",
       "      <td>105</td>\n",
       "      <td>130</td>\n",
       "      <td>130</td>\n",
       "      <td>132</td>\n",
       "      <td>123</td>\n",
       "      <td>128</td>\n",
       "      <td>126</td>\n",
       "      <td>140</td>\n",
       "      <td>135</td>\n",
       "      <td>126</td>\n",
       "      <td>132</td>\n",
       "    </tr>\n",
       "  </tbody>\n",
       "</table>\n",
       "</div>"
      ],
      "text/plain": [
       "Patient    1    2    3    4    5    6    7    8    9   10   11   12   13   14  \\\n",
       "Before   125  132  138  120  125  127  136  139  131  132  135  136  128  127   \n",
       "After    118  134  130  124  105  130  130  132  123  128  126  140  135  126   \n",
       "\n",
       "Patient   15  \n",
       "Before   130  \n",
       "After    132  "
      ]
     },
     "execution_count": 17,
     "metadata": {},
     "output_type": "execute_result"
    }
   ],
   "source": [
    "df5 = pd.DataFrame([[125, 132, 138, 120, 125, 127, 136, 139, 131, 132, 135, 136, 128, 127, 130],\n",
    "                    [118, 134, 130, 124, 105, 130, 130, 132, 123, 128, 126, 140, 135, 126, 132]],\n",
    "                   index=['Before', 'After'], columns=range(1,16))\n",
    "df5.columns.name='Patient'\n",
    "df5"
   ]
  },
  {
   "cell_type": "code",
   "execution_count": 18,
   "metadata": {},
   "outputs": [
    {
     "data": {
      "text/plain": [
       "WilcoxonResult(statistic=31.0, pvalue=0.09885703460547064)"
      ]
     },
     "execution_count": 18,
     "metadata": {},
     "output_type": "execute_result"
    }
   ],
   "source": [
    "st.wilcoxon(x=df5.iloc[0], y=df5.iloc[1])"
   ]
  },
  {
   "cell_type": "markdown",
   "metadata": {},
   "source": [
    "**=> pval=0.09 > 0.05 => median huyết áp 2 mẫu khác nha không có ý nghĩa thống kê**"
   ]
  },
  {
   "cell_type": "markdown",
   "metadata": {},
   "source": [
    "# V. Nhiều mẫu độc lập: Kruskal–Wallis\n",
    "\n",
    "$ H= \\left( \\frac{12}{N(N+1)}\\sum_{j=1}^{k}\\frac{R_j^2}{n_j} \\right) -3(N+1)$\n",
    "\n",
    "$R_j$ là sum rank nhóm j\n",
    "\n",
    "## Ví dụ 1: Albumin (g/dL) máu ở 3 nhóm chế độ ăn"
   ]
  },
  {
   "cell_type": "code",
   "execution_count": 19,
   "metadata": {},
   "outputs": [
    {
     "data": {
      "text/html": [
       "<div>\n",
       "<style scoped>\n",
       "    .dataframe tbody tr th:only-of-type {\n",
       "        vertical-align: middle;\n",
       "    }\n",
       "\n",
       "    .dataframe tbody tr th {\n",
       "        vertical-align: top;\n",
       "    }\n",
       "\n",
       "    .dataframe thead th {\n",
       "        text-align: right;\n",
       "    }\n",
       "</style>\n",
       "<table border=\"1\" class=\"dataframe\">\n",
       "  <thead>\n",
       "    <tr style=\"text-align: right;\">\n",
       "      <th></th>\n",
       "      <th>0</th>\n",
       "      <th>1</th>\n",
       "      <th>2</th>\n",
       "      <th>3</th>\n",
       "      <th>4</th>\n",
       "    </tr>\n",
       "  </thead>\n",
       "  <tbody>\n",
       "    <tr>\n",
       "      <th>5% Protein</th>\n",
       "      <td>3.1</td>\n",
       "      <td>2.6</td>\n",
       "      <td>2.9</td>\n",
       "      <td>NaN</td>\n",
       "      <td>NaN</td>\n",
       "    </tr>\n",
       "    <tr>\n",
       "      <th>10% Protein</th>\n",
       "      <td>3.8</td>\n",
       "      <td>4.1</td>\n",
       "      <td>2.9</td>\n",
       "      <td>3.4</td>\n",
       "      <td>4.2</td>\n",
       "    </tr>\n",
       "    <tr>\n",
       "      <th>15% Protein</th>\n",
       "      <td>4.0</td>\n",
       "      <td>5.5</td>\n",
       "      <td>5.0</td>\n",
       "      <td>4.8</td>\n",
       "      <td>NaN</td>\n",
       "    </tr>\n",
       "  </tbody>\n",
       "</table>\n",
       "</div>"
      ],
      "text/plain": [
       "               0    1    2    3    4\n",
       "5% Protein   3.1  2.6  2.9  NaN  NaN\n",
       "10% Protein  3.8  4.1  2.9  3.4  4.2\n",
       "15% Protein  4.0  5.5  5.0  4.8  NaN"
      ]
     },
     "execution_count": 19,
     "metadata": {},
     "output_type": "execute_result"
    }
   ],
   "source": [
    "df6 = pd.DataFrame([[3.1,2.6,2.9],\n",
    "                    [3.8,4.1,2.9,3.4,4.2],\n",
    "                    [4.0,5.5,5.0,4.8]],\n",
    "                    index=['5% Protein', '10% Protein', '15% Protein'])\n",
    "df6"
   ]
  },
  {
   "cell_type": "code",
   "execution_count": 20,
   "metadata": {},
   "outputs": [
    {
     "data": {
      "text/plain": [
       "KruskalResult(statistic=7.549473684210525, pvalue=0.02294312751270393)"
      ]
     },
     "execution_count": 20,
     "metadata": {},
     "output_type": "execute_result"
    }
   ],
   "source": [
    "st.kruskal(df6.iloc[0], df6.iloc[1], df6.iloc[2], nan_policy='omit')"
   ]
  },
  {
   "cell_type": "markdown",
   "metadata": {},
   "source": [
    "**=> pval=0.02 < 0.05, 3 chế độ ăn có median albumin máu khác nhau**"
   ]
  },
  {
   "cell_type": "markdown",
   "metadata": {},
   "source": [
    "## Ví dụ 2: Ngưỡng ức chế cơ do thiếu oxy ở vận động viên, đo bằng nhịp tim max"
   ]
  },
  {
   "cell_type": "code",
   "execution_count": 21,
   "metadata": {},
   "outputs": [
    {
     "data": {
      "text/html": [
       "<div>\n",
       "<style scoped>\n",
       "    .dataframe tbody tr th:only-of-type {\n",
       "        vertical-align: middle;\n",
       "    }\n",
       "\n",
       "    .dataframe tbody tr th {\n",
       "        vertical-align: top;\n",
       "    }\n",
       "\n",
       "    .dataframe thead th {\n",
       "        text-align: right;\n",
       "    }\n",
       "</style>\n",
       "<table border=\"1\" class=\"dataframe\">\n",
       "  <thead>\n",
       "    <tr style=\"text-align: right;\">\n",
       "      <th></th>\n",
       "      <th>0</th>\n",
       "      <th>1</th>\n",
       "      <th>2</th>\n",
       "      <th>3</th>\n",
       "      <th>4</th>\n",
       "    </tr>\n",
       "  </thead>\n",
       "  <tbody>\n",
       "    <tr>\n",
       "      <th>Distance runners</th>\n",
       "      <td>185</td>\n",
       "      <td>179</td>\n",
       "      <td>192</td>\n",
       "      <td>165</td>\n",
       "      <td>174</td>\n",
       "    </tr>\n",
       "    <tr>\n",
       "      <th>Distance cyclists</th>\n",
       "      <td>190</td>\n",
       "      <td>209</td>\n",
       "      <td>182</td>\n",
       "      <td>178</td>\n",
       "      <td>181</td>\n",
       "    </tr>\n",
       "    <tr>\n",
       "      <th>Distance swimmers</th>\n",
       "      <td>166</td>\n",
       "      <td>159</td>\n",
       "      <td>170</td>\n",
       "      <td>183</td>\n",
       "      <td>160</td>\n",
       "    </tr>\n",
       "    <tr>\n",
       "      <th>Cross-Country Skiers</th>\n",
       "      <td>201</td>\n",
       "      <td>195</td>\n",
       "      <td>180</td>\n",
       "      <td>187</td>\n",
       "      <td>215</td>\n",
       "    </tr>\n",
       "  </tbody>\n",
       "</table>\n",
       "</div>"
      ],
      "text/plain": [
       "                        0    1    2    3    4\n",
       "Distance runners      185  179  192  165  174\n",
       "Distance cyclists     190  209  182  178  181\n",
       "Distance swimmers     166  159  170  183  160\n",
       "Cross-Country Skiers  201  195  180  187  215"
      ]
     },
     "execution_count": 21,
     "metadata": {},
     "output_type": "execute_result"
    }
   ],
   "source": [
    "df7 = pd.DataFrame([[185, 179, 192, 165, 174],\n",
    "                    [190, 209, 182, 178, 181],\n",
    "                    [166, 159, 170, 183, 160],\n",
    "                    [201, 195, 180, 187, 215]],\n",
    "                  index=['Distance runners', 'Distance cyclists', 'Distance swimmers', 'Cross-Country Skiers'])\n",
    "df7"
   ]
  },
  {
   "cell_type": "code",
   "execution_count": 22,
   "metadata": {},
   "outputs": [
    {
     "data": {
      "text/plain": [
       "KruskalResult(statistic=9.114285714285714, pvalue=0.027809360261068908)"
      ]
     },
     "execution_count": 22,
     "metadata": {},
     "output_type": "execute_result"
    }
   ],
   "source": [
    "st.kruskal(*[row[1] for row in df7.iterrows()])"
   ]
  },
  {
   "cell_type": "markdown",
   "metadata": {},
   "source": [
    "**=> pval=0.028 < 0.05, median nhịp tim max ở các nhóm vận động viên khác nhau có ý nghĩa thống kê**  \n",
    "Nhìn vào data, ta thấy ít có sự khác biệt giữa các nhóm, tuy nhiên chỉ có nhóm swimmer là nhịp tim thấp hơn rõ. Do đó, tương tự ANOVA, chỉ cần có 1 nhóm không giống thì reject Null hypothesis."
   ]
  },
  {
   "cell_type": "markdown",
   "metadata": {},
   "source": [
    "# VI. TỔNG KẾT:\n",
    "Ở đây, tôi đã trình bày các pp thống kê kiểm định giả thuyết trong trường hợp:\n",
    "- Cỡ mẫu quá nhỏ\n",
    "- Biến quan tâm là biến liên tục nhưng không normal\n",
    "- Biến xếp rank\n",
    "\n",
    "Cách làm cũng tương tự như parametric, như tính ra số kết quả stats, tìm ra  p-value để có/không reject $H_0$.\n",
    "\n",
    "Nên lưu ý rằng, nonparametric tests có power thấp so với parametric, vì cỡ mẫu nhỏ.  \n",
    "**POWER** là xác suất reject $H_0$ khi $H_1$ đúng. "
   ]
  },
  {
   "cell_type": "code",
   "execution_count": null,
   "metadata": {},
   "outputs": [],
   "source": []
  }
 ],
 "metadata": {
  "kernelspec": {
   "display_name": "Python 3",
   "language": "python",
   "name": "python3"
  },
  "language_info": {
   "codemirror_mode": {
    "name": "ipython",
    "version": 3
   },
   "file_extension": ".py",
   "mimetype": "text/x-python",
   "name": "python",
   "nbconvert_exporter": "python",
   "pygments_lexer": "ipython3",
   "version": "3.7.6"
  }
 },
 "nbformat": 4,
 "nbformat_minor": 4
}
