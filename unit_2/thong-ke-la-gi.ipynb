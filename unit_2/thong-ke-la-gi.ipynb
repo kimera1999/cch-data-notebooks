{
 "cells": [
  {
   "cell_type": "markdown",
   "metadata": {},
   "source": [
    "# <center>THỐNG KÊ LÀ GÌ</center>"
   ]
  },
  {
   "cell_type": "markdown",
   "metadata": {},
   "source": [
    "# 1/ Định nghĩa:\n",
    "Là kỹ năng tìm ra giá trị thực dụng trong một tập dữ liệu, bằng các phương pháp toán học, dưới sự hỗ trợ của máy tính."
   ]
  },
  {
   "cell_type": "markdown",
   "metadata": {},
   "source": [
    "# 2/ Các dạng câu hỏi nghiên cứu: "
   ]
  },
  {
   "cell_type": "markdown",
   "metadata": {},
   "source": [
    "## 1. Suy diễn quần thể"
   ]
  },
  {
   "cell_type": "markdown",
   "metadata": {},
   "source": [
    "<img src=\"../images/dang1.png\" width=350 height=350>"
   ]
  },
  {
   "cell_type": "markdown",
   "metadata": {},
   "source": [
    "Là phương pháp tìm ra đặc điểm của quần thể thông qua việc chọn mẫu, phân tích đặc điểm của mẫu, và suy đoán ra đặc điểm của quần thể."
   ]
  },
  {
   "cell_type": "markdown",
   "metadata": {},
   "source": [
    "Từ khoá: nghiên cứu cắt ngang mô tả, cách chọn mẫu (ngẫu nhiên hoặc không ngẫu nhiên), central limit theorem, normal distribution,..."
   ]
  },
  {
   "cell_type": "markdown",
   "metadata": {},
   "source": [
    "Ví dụ 1: Ước tính độ tuổi trung bình của nhân viên bệnh viện thông qua chọn 10% nhân viên từng khoa, sau đó tính trung vị, tính khoảng tin cậy 95% qua công thức $ \\hat{M}p = \\hat{M}s \\pm 1.96 \\times \\frac{\\sigma}{\\sqrt{n}} $"
   ]
  },
  {
   "cell_type": "markdown",
   "metadata": {},
   "source": [
    "Ví dụ 2: Ước tính tỉ lệ thực hiện đúng phác đồ của toàn bộ bệnh viện. Chọn mẫu là 20% hồ sơ từng khoa, tính tỉ lệ, tính khoảng tin cậy 95% qua công thức $ \\hat{P}p = \\hat{P}s \\pm 1.96\\times\\sqrt{\\frac{p(1-p)}{n}}$"
   ]
  },
  {
   "cell_type": "markdown",
   "metadata": {},
   "source": [
    "## 2/ Dịch tễ học"
   ]
  },
  {
   "cell_type": "markdown",
   "metadata": {},
   "source": [
    "<img src=\"../images/dang2.png\" width=350 height=350>"
   ]
  },
  {
   "cell_type": "markdown",
   "metadata": {},
   "source": [
    "Liên quan đến khảo sát, điều tra toàn bộ dân số."
   ]
  },
  {
   "cell_type": "markdown",
   "metadata": {},
   "source": [
    "So sánh 2 nhóm bằng Relative Risk, Odds Ratio dựa trên tỉ suất hiện mắc, mới mắc"
   ]
  },
  {
   "cell_type": "markdown",
   "metadata": {},
   "source": [
    "Ví dụ 1: Lồng ruột có Prevalence thấp nhưng Incidence cao; ngược lại, bệnh u não có Prevalence cao nhưng Incidence thấp."
   ]
  },
  {
   "cell_type": "markdown",
   "metadata": {},
   "source": [
    "Ví dụ 2:"
   ]
  },
  {
   "cell_type": "markdown",
   "metadata": {},
   "source": [
    "|     |Free of CVD|History of CVD|Total|\n",
    "|-----|-----------|--------------|-----|\n",
    "|Men  |       1548|           244| 1792|\n",
    "|Women|       1872|           135| 2007|\n",
    "|Total|       3420|           379| 3799|"
   ]
  },
  {
   "cell_type": "markdown",
   "metadata": {},
   "source": [
    "Odds CVD của nam là $^{244}/_{1548} = 0.16$  \n",
    "Odds CVD của nữ  là $^{135}/_{1972} = 0.07$  \n",
    "Odds Ratio của nam so với nữ là $^{0.16}/_{0.07} = 2.30$  "
   ]
  },
  {
   "cell_type": "markdown",
   "metadata": {},
   "source": [
    "## 3/ Yếu tố nguy cơ"
   ]
  },
  {
   "cell_type": "markdown",
   "metadata": {},
   "source": [
    "<img src=\"../images/dang3.png\" width=350 height=350>"
   ]
  },
  {
   "cell_type": "markdown",
   "metadata": {},
   "source": [
    "Là phương pháp phân tích tìm yếu tố nguy cơ."
   ]
  },
  {
   "cell_type": "markdown",
   "metadata": {},
   "source": [
    "Từ khoá: Nghiên cứu đoàn hệ, nghiên cứu bệnh chứng dành cho bệnh hiếm;\n",
    "* Cohort study, case-control study\n",
    "* Hypothesis testing\n",
    "* T-test, f-test\n",
    "* χ2  ( đọc là ”K-ai square”)\n",
    "* ANOVA\n",
    "…\n",
    "\n",
    "Và nhiều danh từ riêng khác: McNemar, Fisher Exact,…  \n",
    "Vấn đề cỡ mẫu"
   ]
  },
  {
   "cell_type": "markdown",
   "metadata": {},
   "source": [
    "## 4/ So sánh"
   ]
  },
  {
   "cell_type": "markdown",
   "metadata": {},
   "source": [
    "<img src=\"../images/dang4.png\" width=350 height=350>"
   ]
  },
  {
   "cell_type": "markdown",
   "metadata": {},
   "source": [
    "Có thể so sánh cùng 1 nhóm nhưng 2 thời điểm khác nhau, hoặc so sánh 2 nhóm chứng và can thiệp"
   ]
  },
  {
   "cell_type": "markdown",
   "metadata": {},
   "source": [
    "Từ khoá: giống dạng 3"
   ]
  },
  {
   "cell_type": "markdown",
   "metadata": {},
   "source": [
    "## 5/ Tiên lượng"
   ]
  },
  {
   "cell_type": "markdown",
   "metadata": {},
   "source": [
    "<img src=\"../images/dang5.png\" width=350 height=350>"
   ]
  },
  {
   "cell_type": "markdown",
   "metadata": {},
   "source": [
    "Là phương pháp xây dựng các mô hình tiên lượng, ước đoán một trị số thực hoặc tỉ lệ phần trăm"
   ]
  },
  {
   "cell_type": "markdown",
   "metadata": {},
   "source": [
    "Từ khoá: Machine learning, Linear Regression, Logistic Regression"
   ]
  }
 ],
 "metadata": {
  "kernelspec": {
   "display_name": "Python 3",
   "language": "python",
   "name": "python3"
  },
  "language_info": {
   "codemirror_mode": {
    "name": "ipython",
    "version": 3
   },
   "file_extension": ".py",
   "mimetype": "text/x-python",
   "name": "python",
   "nbconvert_exporter": "python",
   "pygments_lexer": "ipython3",
   "version": "3.7.6"
  }
 },
 "nbformat": 4,
 "nbformat_minor": 4
}
