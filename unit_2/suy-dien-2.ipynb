{
 "cells": [
  {
   "cell_type": "markdown",
   "metadata": {},
   "source": [
    "# <center>SUY DIỄN QUẦN THỂ (TẬP 2)</center>\n",
    "\n",
    "# I. Nói về student-t distribution\n",
    "- Giống như normal distribution nhưng mập và lùn hơn.  \n",
    "- Đại diện bởi 3 giá trị: độ tự do, trung bình, độ biến thiên. $ t(\\text{dof}, \\mu , \\sigma^2)$\n",
    "- Khi dof tăng dần lên >30 thì trở thành normal distribution.  \n",
    "\n",
    "<center>$\\nu$ là dof, hình vẽ PDF(Probability density function) của 4 phân phối student-t với dof tăng dần</center>\n",
    "<img src=\"https://upload.wikimedia.org/wikipedia/commons/thumb/4/41/Student_t_pdf.svg/650px-Student_t_pdf.svg.png\" width=400>"
   ]
  },
  {
   "cell_type": "markdown",
   "metadata": {},
   "source": [
    "---\n",
    "# II. Suy diễn hiệu số của 2 quần thể độc lập $\\mu_1-\\mu_2$\n",
    "2 quần thể độc lập là 2 quần thể khác biệt nhau hoàn toàn về mặt vật lý.  \n",
    "Ví dụ: \n",
    "- Nhóm nam và nữ\n",
    "- Nhóm thuốc mới và placebo\n",
    "- Nhóm có và không có yếu tố nguy cơ.\n",
    "\n",
    "Gọi:\n",
    "- $\\mu$: trung bình quần thể\n",
    "- $X$: trung bình mẫu \n",
    "- $S_p$: pooled estimation of standard deviation (weighted average SD)\n",
    "$$ \\mu1-\\mu2 = X_1-X_2 \\pm1.96 S_p\\sqrt{\\frac{1}{n_1} +\\frac{1}{n_2}} $$\n",
    "$$ S_p = \\sqrt{\\frac{(n_1-1)S_1^2 + (n_2-1)S_2^2}{n_1+n_2-2}}$$\n",
    "\n",
    "**Tương tự như bài trước, điều kiện để sử dụng 1.96 là $n_1\\geq30$ và $n_2\\geq30$**.  \n",
    "\n",
    "Nếu kết quả khoảng tin cậy của $\\mu_1-\\mu_2$ có chứa zero, thì có thể giải thích trung bình của 2 quần thể nghiên cứu khác biệt không có ý nghĩa thống kê.  \n",
    "Ví dụ:  \n",
    "$\\mu_1-\\mu_2$ = 2.58 $\\pm$ 3.05 = (-0.47, 5.63). Khoảng này chứa zero nên $\\mu_1$ và $\\mu_2$ khác biệt không có ý nghĩa thống kê."
   ]
  },
  {
   "cell_type": "markdown",
   "metadata": {},
   "source": [
    "---\n",
    "# III. Suy diễn sự khác biệt của 1 quần thể trước và sau 1 can thiệp (hoặc sau 1 khoảng thời gian)\n",
    "Còn gọi là **Matched Sample**.   \n",
    "Ví dụ:  \n",
    "- Lương của cùng 1 nhóm bác sĩ 2018 và 2019. \n",
    "- Men gan của cùng nhóm bệnh nhân trước và sau dùng thuốc.  \n",
    "\n",
    "Gọi:\n",
    "- Sự khác biệt: phép trừ array, kết quả là 1 array mới\n",
    "- $\\mu_d$: trung bình của sự khác biệt trong quần thể\n",
    "- $X_d$: trung bình của sự khác biệt trong Mẫu\n",
    "- $S_d$: độ lệch chuẩn của sự khác biệt\n",
    "$$ \\mu_d = X_d \\pm1.96 \\frac{S_d}{\\sqrt{n}} $$  \n",
    "\n",
    "**Tương tự, điều kiện để dùng 1.96 là $n\\geq30$**.  \n",
    "\n",
    "Nếu khoảng tin cậy của $\\mu_d$ chứa zero => sự khác biệt không có ý nghĩa thống kê. "
   ]
  },
  {
   "cell_type": "markdown",
   "metadata": {},
   "source": [
    "---\n",
    "# IV. Suy diễn 2 quần thể ĐỘC LẬP ( RR và OR)\n",
    "Nhắc lại:  \n",
    "$$ \\text{RR} = \\frac{p_1}{p_2} =\\frac{x_1/n_1}{x_2/n_2} $$\n",
    "$$ \\text{OR} = \\frac{p_1(1-p_1)}{p_2(1-p_2)} = \\frac{x_1(n_1-x_1)}{x_2(n_2-x_2)}$$\n",
    "\n",
    "Ta có công thức cho RR:  \n",
    "$$ \\ln{\\text{RR}} \\pm 1.96 \\sqrt{\\frac{n_1-x_1}{n_1x_1} + \\frac{n_2-x_2}{n_2x_2}  }$$\n",
    "$$ \\text{Khoảng tin cậy RR} = (e^{\\text{lower value}}, e^{\\text{upper value}} )$$  \n",
    "\n",
    "Ta có công thức cho OR:  \n",
    "$$ \\ln{\\text{OR}} \\pm 1.96 \\sqrt{\\frac{1}{x_1} + \\frac{1}{x_2} + \\frac{1}{n_1-x_1} + \\frac{1}{n_2-x_2}  }$$\n",
    "$$ \\text{Khoảng tin cậy OR} = (e^{\\text{lower value}}, e^{\\text{upper value}} )$$\n",
    "\n",
    "**Nếu RR hoặc OR có khoảng tin cậy chứa 1 => Hai quần thể khác biệt không có ý nghĩa thống kê.**"
   ]
  }
 ],
 "metadata": {
  "kernelspec": {
   "display_name": "Python 3",
   "language": "python",
   "name": "python3"
  },
  "language_info": {
   "codemirror_mode": {
    "name": "ipython",
    "version": 3
   },
   "file_extension": ".py",
   "mimetype": "text/x-python",
   "name": "python",
   "nbconvert_exporter": "python",
   "pygments_lexer": "ipython3",
   "version": "3.7.6"
  }
 },
 "nbformat": 4,
 "nbformat_minor": 4
}
