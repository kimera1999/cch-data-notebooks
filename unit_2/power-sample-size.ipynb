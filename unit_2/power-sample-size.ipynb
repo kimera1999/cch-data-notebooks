{
 "cells": [
  {
   "cell_type": "markdown",
   "metadata": {},
   "source": [
    "# Cỡ mẫu\n",
    "Bs Vương Kiến Thanh\n",
    "\n",
    "---\n",
    "\n",
    "**Nhắc lại công thức:**  \n",
    "> Suy diễn trung bình quần thể: $\\overline{X} \\pm z\\frac{\\sigma}{\\sqrt{n}} $  \n",
    "> Suy diễn tỉ lệ quần thể: $p \\pm z\\sqrt{\\frac{p*(1-p)}{n}} $\n"
   ]
  },
  {
   "cell_type": "markdown",
   "metadata": {},
   "source": [
    "Từ công thức suy diễn, ta có thể tính ngược lại n khi biết:  \n",
    "- Độ lệch chuẩn $\\sigma$\n",
    "- Biên sai số  (margin of error): $ E = z\\frac{\\sigma}{\\sqrt{n}}$\n",
    "- z-statistics theo mức độ tin cậy ( thường mặc định là 95% => z=1.96)\n",
    "\n",
    "\n",
    "\n",
    "<div class=\"alert alert-block alert-success\">\n",
    "$$ n = \\left(\\frac{z\\sigma}{E}\\right)^2$$\n",
    "</div>"
   ]
  },
  {
   "cell_type": "markdown",
   "metadata": {},
   "source": [
    "## Vậy $\\sigma$ có từ đâu?\n",
    "1. Dùng $\\sigma$ của nghiên cứu cũ, y văn\n",
    "2. Chọn đại, theo kiến thức của mình, không quá nhỏ vì làm cho con số cần ước lượng trong khoảng hẹp (ít biến thiên), không quá lớn ( đủ lớn để giới hạn con số cần ước lượng trong khoảng hợp lý)\n",
    "\n",
    "## Đặt E như thế nào \n",
    "Vừa đủ để khoảng ước lượng có ý nghĩa lâm sàng.\n",
    "\n",
    "## Diễn giải công thức bằng văn nói\n",
    "Đây là công thức tính cỡ mẫu nhỏ nhất để khoảng ước lượng quần thể có ý nghĩa lâm sàng, với độ tin cậy đặt trước."
   ]
  },
  {
   "cell_type": "markdown",
   "metadata": {},
   "source": [
    "**Ví dụ 1:**  \n",
    ">Tìm chiều cao trung bình của người trong một quần thể:  \n",
    ">Đặt:\n",
    ">- z=1.96, tức khoảng tin cậy 95%\n",
    ">- E=3, tức là con số trung bình $\\pm$ 3\n",
    ">- $\\sigma$= 15, tức là người trong quần thể có chiều cao dao động từ trung bình $\\pm$ 15 ( như 170 $\\pm$ 15 = 155-185)  \n",
    ">n = (1.96*15/3)^2 = 100 người"
   ]
  },
  {
   "cell_type": "markdown",
   "metadata": {},
   "source": [
    "**Ví dụ 2:**  \n",
    ">Tìm tỉ lệ hút thuốc lá tại địa phương:  \n",
    ">Đặt:  \n",
    ">- z=1.96\n",
    ">- E=5%=0.05, tức là tỉ lệ ước đoán $\\pm$ 5%\n",
    ">- $\\sigma$ = $\\sqrt{p*(1-p)}$, đặt p=50%, tức giả sử 1/2 dân số địa phương có hút thuốc lá\n",
    ">\n",
    ">n = $\\left(\\frac{1.96 * \\sqrt{0.5(1-0.5)}}{0.05}\\right)^2 = 384.2 = 385$\n",
    ">\n",
    ">- Giả sử 2 năm trước đã từng tìm tỉ lệ hút thuốc lá, với kết quả là 20%\n",
    ">\n",
    ">n = $\\left(\\frac{1.96 * \\sqrt{0.2(1-0.2)}}{0.05}\\right)^2 = 245.8 = 246$"
   ]
  },
  {
   "cell_type": "markdown",
   "metadata": {},
   "source": [
    "<div class=\"alert alert-block alert-danger\">\n",
    "<b>Lưu ý:</b></br>\n",
    "Ở đây, chúng ta không có sử dụng lý thuyết thống kê mới nào cả.</br>\n",
    "Các cách tính sample size đều mang tính chất chủ quan của người nghiên cứu.\n",
    "</div>"
   ]
  },
  {
   "cell_type": "markdown",
   "metadata": {},
   "source": [
    "**Ví dụ 3:**  \n",
    ">Tìm Incidence u não (bệnh hiếm), với n=5,000 (1 địa phương nào đó), p cũ là 0.0003\n",
    ">\n",
    ">$ E = 1.96 * \\sqrt{\\frac{0.0003(1-0.0003)}{5,000}} =0.00048$  \n",
    ">\n",
    ">Tức là 0.0003 $\\pm$ 0.0005 = 0 - 0.0008  \n",
    ">Người nghiên cứu chấp nhận E = 0.0005 thì sẽ tiến hành thu thập data với cỡ mẫu 5000.  \n",
    ">Còn không chấp nhận thì nâng lên n=100,000  \n",
    ">\n",
    ">$ E = 1.96 * \\sqrt{\\frac{0.0003(1-0.0003)}{100,000}} =0.0001$  "
   ]
  },
  {
   "cell_type": "markdown",
   "metadata": {},
   "source": [
    "<div class=\"alert alert-block alert-success\">\n",
    "Công thức khác:  \n",
    "\n",
    "<b>1. Tỉ lệ của 1 quần thể</b>\n",
    "$$ n = \\left(\\frac{z\\sigma}{E}\\right)^2;\\quad \\sigma=\\sqrt{p(1-p)}$$\n",
    "<b>2. Trung bình của 2 mẫu độc lậ</b>\n",
    "    \n",
    "$$ \\text{Inference:}\\; \\overline{X}_1 - \\overline{X}_2 \\pm zS_p \\sqrt{\\frac{1}{n_1} + \\frac{1}{n_2}};\\quad S_p = \\sqrt{\\frac{(n_1-1)s_1^2 + (n_2-1)s_2^2}{n_1+n_2-2} } $$\n",
    "\n",
    "$$ \\implies n_1 = n_2 = 2 \\left( \\frac{z\\sigma}{E} \\right)^2 $$\n",
    "Vì ta giả định 2 mẫu này có variance tương đương nhau, nên ta có dùng $\\sigma$ của 1 nghiên cứu cũ từ nhóm control (chưa phơi nhiễm), hoặc nếu có cả 2 thì ta có thể dùng $\\sigma = S_p$.  \n",
    "  \n",
    "<b>3. Trung bình của 2 mẫu liên qua</b>\n",
    "    \n",
    "$$ \\mu_d \\pm z \\frac{\\sigma_d}{\\sqrt{n}} \\implies n = \\left( \\frac{z\\sigma_d}{E} \\right)^2 $$\n",
    "    \n",
    "<b>4. Tỉ lệ của 2 mẫu độc lập  </b>\n",
    "    \n",
    "$$ n_1 = n_2 = [p_1(1-p_1) + p_2(1-p_2)]\\left(\\frac{z}{E} \\right)^2 $$ \n",
    "    \n",
    "Nếu không có p 2 nhóm từ nghiên cứu so sánh khác, ta có thể dùng p chung từ nghiên cứu dịch tễ.\n",
    "    \n",
    "    \n",
    "</div>"
   ]
  },
  {
   "cell_type": "markdown",
   "metadata": {},
   "source": [
    "---\n",
    "# <font color='#c43d08'>Cỡ mẫu trong hypothesis testing</font>\n",
    "\n",
    "## Hai loại error trong hypothesis testing\n",
    "1. Type I Error:\n",
    "Hay còn gọi là p-value. Là xác suất xảy ra $H_1$ (và các trường hợp hiếm hơn) khi $H_0$ đúng. Ta thường giới hạn nó < 0.05\n",
    "\n",
    "<center>$\\alpha$ = P(Type I error) = P(Reject $H_0$ | $H_0$ is true)</center>\n",
    "\n",
    "2. Type II Error:\n",
    "Là xác suất xảy ra $H_0$ (và các trường hợp có thể gặp) khi $H_1$ đúng.\n",
    "\n",
    "<center>$\\beta$ = P(Type II error) = P(Do not reject $H_0$ | $H_1$ is true)</center>\n",
    "\n",
    "3. Power:\n",
    "Người ta thường dùng Power hơn là Type II error.  \n",
    "Power hiểu nôm na là xác suất phát hiện sự khác nhau giữa 2 giả thuyết $H_0$ và $H_1$\n",
    "\n",
    "<center>Power = 1 - $\\beta$</center>"
   ]
  },
  {
   "cell_type": "markdown",
   "metadata": {},
   "source": [
    "## Một test tốt thì có $\\alpha$ nhỏ và Power lớn ($\\beta$ nhỏ).\n",
    "## Mối quan hệ giữa $\\alpha$ và Power\n",
    "1. $\\alpha$ tăng thì Power tăng. Tuy nhiên ta thường giữ $\\alpha = 0.05$.\n",
    "2. Effect size ( sự khác nhau giữa $H_0$ và $H_1$) càng lớn thì Power càng mạnh."
   ]
  },
  {
   "cell_type": "markdown",
   "metadata": {},
   "source": [
    "---\n",
    "**Ví dụ:**  \n",
    ">$H_0: \\mu = 90$  \n",
    ">$H_1: \\mu \\neq 90$  \n",
    ">$n = 100, \\overline{X}=94, \\sigma = 20$"
   ]
  },
  {
   "cell_type": "code",
   "execution_count": 1,
   "metadata": {},
   "outputs": [],
   "source": [
    "import numpy as np\n",
    "import scipy.stats as st\n",
    "import matplotlib.pyplot as plt\n",
    "import matplotlib\n"
   ]
  },
  {
   "cell_type": "code",
   "execution_count": 2,
   "metadata": {},
   "outputs": [
    {
     "data": {
      "image/png": "[encoded data removed]",
      "text/plain": [
       "<Figure size 720x360 with 1 Axes>"
      ]
     },
     "metadata": {
      "needs_background": "light"
     },
     "output_type": "display_data"
    }
   ],
   "source": [
    "def plot(h0,h1,sigma,alpha=0.05):\n",
    "    # ve pdf\n",
    "    plt.figure(figsize=(10,5))\n",
    "    arr = np.linspace(h0-3*sigma, h1+3*sigma,200)\n",
    "    sd2 = st.norm(loc=h0, scale=sigma).isf(alpha/2)\n",
    "    plt.plot(arr, st.norm(loc=h0, scale=sigma).pdf(arr))\n",
    "    plt.plot(arr, st.norm(loc=h1, scale=sigma).pdf(arr))\n",
    "    plt.text(h0-0.3, -0.04, '$H_0$', fontdict={'size':16})\n",
    "    plt.text(h1-0.3, -0.04, '$H_1$', fontdict={'size':16})\n",
    "\n",
    "    # vẽ alpha, beta, power\n",
    "    arr2 = np.linspace(sd2, arr[-1], 20)\n",
    "    plt.fill_between(arr2, st.norm(loc=h0, scale=sigma).pdf(arr2), label=r'$\\alpha/2$')\n",
    "    arr3 = np.linspace(arr[0], sd2, 20)\n",
    "    plt.fill_between(arr3, st.norm(loc=h1, scale=sigma).pdf(arr3), alpha=0.2, color='orange',label=r'$\\beta$')\n",
    "    plt.fill_between(arr2, st.norm(loc=h1, scale=sigma).pdf(arr2), alpha=0.2, color='green',label='Power')\n",
    "\n",
    "    plt.legend()\n",
    "\n",
    "plot(h0=90, h1=94, sigma=20/np.sqrt(100))\n",
    "plt.title('Ở đây $H_1=94$ trùng với ngưỡng significance\\ncho nên $\\\\beta$ = power=0.5');"
   ]
  },
  {
   "cell_type": "markdown",
   "metadata": {},
   "source": [
    "**Ví dụ 2:**  \n",
    ">$H_0: \\mu = 90$  \n",
    ">$H_1: \\mu \\neq 90$  \n",
    ">$n = 100, \\overline{X}=98, \\sigma = 20$"
   ]
  },
  {
   "cell_type": "code",
   "execution_count": 3,
   "metadata": {},
   "outputs": [
    {
     "data": {
      "image/png": "[encoded data removed]",
      "text/plain": [
       "<Figure size 720x360 with 1 Axes>"
      ]
     },
     "metadata": {
      "needs_background": "light"
     },
     "output_type": "display_data"
    }
   ],
   "source": [
    "plot(h0=90, h1=98, sigma=2)\n",
    "plt.title('Test có power rất cao vì\\n$H_1$ cách xa $H_0$ ');"
   ]
  },
  {
   "cell_type": "markdown",
   "metadata": {},
   "source": [
    "## Chọn cỡ mẫu trong hypothesis testing với $\\alpha$ và Power mặc định\n",
    "\n",
    "<div class=\"alert alert-block alert-success\">\n",
    "Công thức:\n",
    "\n",
    "$$ n = \\left( \\frac{z_{1-\\alpha/2} + z_{1-\\beta} }{\\text{Effect size}}  \\right)^2 ; \\text{Effect size} = \\frac{|\\mu_1-\\mu_2|}{\\sigma}$$\n",
    "\n",
    "Với:\n",
    "- $\\alpha = 0.05 \\implies z_{1-\\alpha/2} =1.96$\n",
    "- Power $= 0.8  \\implies z_{1-\\beta}  = 0.84 $\n",
    "- Power $= 0.9  \\implies z_{1-\\beta}  = 1.282 $\n",
    "</div>\n",
    "\n"
   ]
  },
  {
   "cell_type": "markdown",
   "metadata": {},
   "source": [
    "---\n",
    "**Ví dụ:**  \n",
    ">Nhà nghiên cứu nghĩ rằng uống cà phê >2 ly/ngày làm tăng đường huyết.  \n",
    ">Cụ thể nhà nghiên cứu đo đường huyết đói của những người uống cà phê >2 ly/ngày.  \n",
    ">- Đường huyết trung bình của người bình thường là 95 mg/dL, độ lệch chuẩn là 9.8 mg/dL.  \n",
    ">- Nhà nghiên cứu nghĩ rằng đường huyết =100 mg/dL là có ý nghĩa thực tế ( tăng so với 95 mg/dL)  \n",
    ">- Chọn a=0.05, power=0.8  \n",
    "\n"
   ]
  },
  {
   "cell_type": "code",
   "execution_count": 4,
   "metadata": {},
   "outputs": [
    {
     "data": {
      "text/plain": [
       "(1.959963984540054, 0.8416212335729143)"
      ]
     },
     "execution_count": 4,
     "metadata": {},
     "output_type": "execute_result"
    }
   ],
   "source": [
    "alpha, power = 0.05, 0.8\n",
    "z_1 = st.norm.ppf(1-alpha/2)\n",
    "z_2 = st.norm.ppf(power)\n",
    "z_1, z_2"
   ]
  },
  {
   "cell_type": "code",
   "execution_count": 5,
   "metadata": {},
   "outputs": [
    {
     "data": {
      "text/plain": [
       "0.5102040816326531"
      ]
     },
     "execution_count": 5,
     "metadata": {},
     "output_type": "execute_result"
    }
   ],
   "source": [
    "h0, h1 = 95, 100\n",
    "sigma = 9.8\n",
    "effect_size = (h1-h0)/sigma\n",
    "effect_size"
   ]
  },
  {
   "cell_type": "code",
   "execution_count": 6,
   "metadata": {},
   "outputs": [
    {
     "data": {
      "text/plain": [
       "31.0"
      ]
     },
     "execution_count": 6,
     "metadata": {},
     "output_type": "execute_result"
    }
   ],
   "source": [
    "sample_size = np.ceil(((z_1 + z_2)/effect_size)**2)\n",
    "sample_size"
   ]
  },
  {
   "cell_type": "code",
   "execution_count": 7,
   "metadata": {},
   "outputs": [
    {
     "data": {
      "text/plain": [
       "35.0"
      ]
     },
     "execution_count": 7,
     "metadata": {},
     "output_type": "execute_result"
    }
   ],
   "source": [
    "# Nhà nghiên cứu nghĩ rằng 10% bệnh nhân sẽ quên nhịn ăn hoặc từ chối XN máu\n",
    "adj_sample_size = np.ceil(sample_size /0.9)\n",
    "adj_sample_size"
   ]
  },
  {
   "cell_type": "markdown",
   "metadata": {},
   "source": [
    "---\n",
    "## Chọn cỡ mẫu trong hypothesis testing với $\\alpha$ và Power mặc định\n",
    "\n",
    "<div class=\"alert alert-block alert-success\">\n",
    "Công thức khác:\n",
    "\n",
    "<b>1. Tỉ lệ của 1 quần thể:</b>\n",
    "$$ n = \\left( \\frac{z_{1-\\alpha/2} + z_{1-\\beta} }{\\text{Effect size}}  \\right)^2 ; \\text{Effect size} = \\frac{|p_1-p_0|}{\\sqrt{p_0(1-p_0)}}$$\n",
    "\n",
    "<b>2. Trung bình của 2 mẫu độc lập:</b>\n",
    "$$ n_1=n_2= 2\\left( \\frac{z_{1-\\alpha/2} + z_{1-\\beta} }{\\text{Effect size}}  \\right)^2 ; \\text{Effect size} = \\frac{|\\mu_1-\\mu_0|}{\\sigma}$$\n",
    "Vì ta giả định 2 mẫu này có variance tương đương nhau, nên ta có dùng $\\sigma$ của 1 nghiên cứu cũ từ nhóm control ( chưa phơi nhiễm), hoặc nếu có cả 2 thì ta có thể dùng $\\sigma = S_p$. \n",
    "\n",
    "<b>3. Trung bình của 2 mẫu liên quan:</b>\n",
    "$$ n_1=n_2= 2\\left( \\frac{z_{1-\\alpha/2} + z_{1-\\beta} }{\\text{Effect size}}  \\right)^2 ; \\text{Effect size} = \\frac{|\\mu_d|}{\\sigma_d}$$\n",
    "\n",
    "<b>4. Tỉ lệ của 2 mẫu độc lập:</b>\n",
    "$$ n_1=n_2= 2\\left( \\frac{z_{1-\\alpha/2} + z_{1-\\beta} }{\\text{Effect size}}  \\right)^2 ; \\text{Effect size} = \\frac{|p_1-p_2|}{\\sqrt{p(1-p)}};\\quad p = \\frac{p_1+p_2}{2}$$\n",
    "    \n",
    "    \n",
    "\n",
    "</div>\n",
    "\n",
    "\n"
   ]
  },
  {
   "cell_type": "markdown",
   "metadata": {},
   "source": [
    "---\n",
    "Ví dụ 2:  \n",
    ">Nhà sản xuất stents tính rằng trong quá trình sản xuất, có 10% stents bị hư.  \n",
    ">Trong một nhà máy chế tạo stents, nhà sản xuất muốn test xem tỉ lệ hư stent có cao không?  \n",
    ">Nếu tỉ lệ này > 15% thì phải xem lại quá trình chế tạo.  \n",
    ">Cỡ mẫu cần là bao nhiều? Test này có power là 90%, alpha =0.05"
   ]
  },
  {
   "cell_type": "code",
   "execution_count": 8,
   "metadata": {},
   "outputs": [
    {
     "data": {
      "text/plain": [
       "(1.959963984540054, 1.2815515655446004)"
      ]
     },
     "execution_count": 8,
     "metadata": {},
     "output_type": "execute_result"
    }
   ],
   "source": [
    "alpha, power = 0.05, 0.9\n",
    "z_1 = st.norm.ppf(1-alpha/2)\n",
    "z_2 = st.norm.ppf(power)\n",
    "z_1, z_2"
   ]
  },
  {
   "cell_type": "code",
   "execution_count": 9,
   "metadata": {},
   "outputs": [
    {
     "data": {
      "text/plain": [
       "0.1666666666666666"
      ]
     },
     "execution_count": 9,
     "metadata": {},
     "output_type": "execute_result"
    }
   ],
   "source": [
    "h0, h1 = 0.1, 0.15\n",
    "sigma = np.sqrt(h0*(1-h0))\n",
    "effect_size = (h1-h0)/sigma\n",
    "effect_size"
   ]
  },
  {
   "cell_type": "code",
   "execution_count": 10,
   "metadata": {},
   "outputs": [
    {
     "data": {
      "text/plain": [
       "378.26723021186257"
      ]
     },
     "execution_count": 10,
     "metadata": {},
     "output_type": "execute_result"
    }
   ],
   "source": [
    "sample_size = ((z_1 + z_2)/effect_size)**2\n",
    "sample_size"
   ]
  },
  {
   "cell_type": "markdown",
   "metadata": {},
   "source": [
    "---\n",
    "\n",
    "# <font color='#c43d08'>TỔNG KẾT</font>\n",
    "Việc thiết kế nghiên cứu cực kỳ quan trọng, hơn cả việc phân tích dữ liệu. Một thiết kế kém thì không thể nào cứu vãn được, trong khi phân tích sai thì có thể phân tích lại.  \n",
    "Một công đoạn trong thiết kế là tính toán cỡ mẫu. Cỡ mẫu phải đủ lớn để trả lời câu hỏi nghiên cứu, nhưng không quá lớn để tránh hao phí.  \n",
    "Việc tính toán cỡ mẫu dựa vào một ít lý thuyết thống kê, phần lớn là nhờ vào kinh nghiệm lâm sàng thực tế.  \n",
    "Do đó, người làm thống kê và người nghiên cứu phải làm việc cùng nhau để cho ra kết quả có ý nghĩa lâm sàng."
   ]
  }
 ],
 "metadata": {
  "kernelspec": {
   "display_name": "Python 3",
   "language": "python",
   "name": "python3"
  },
  "language_info": {
   "codemirror_mode": {
    "name": "ipython",
    "version": 3
   },
   "file_extension": ".py",
   "mimetype": "text/x-python",
   "name": "python",
   "nbconvert_exporter": "python",
   "pygments_lexer": "ipython3",
   "version": "3.7.6"
  }
 },
 "nbformat": 4,
 "nbformat_minor": 4
}
