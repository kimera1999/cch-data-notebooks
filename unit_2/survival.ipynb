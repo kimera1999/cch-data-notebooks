{
 "cells": [
  {
   "cell_type": "markdown",
   "metadata": {},
   "source": [
    "# Survival analysis\n",
    "BS Vương Kiến Thanh\n",
    "\n",
    "Bài này sẽ nói về một loại data mới, đó là time-to-event, ví dụ như:\n",
    "- Time from at risk to heart attack\n",
    "- Time from at risk to cancer\n",
    "- Time to death,...\n",
    "\n",
    "Phân tích những data này gọi là survival analysis, phân tích sống còn.  "
   ]
  },
  {
   "cell_type": "markdown",
   "metadata": {},
   "source": [
    "---\n",
    "--- Skip phần này ---"
   ]
  },
  {
   "cell_type": "code",
   "execution_count": 1,
   "metadata": {},
   "outputs": [],
   "source": [
    "# import các lib cần thiết\n",
    "import numpy as np\n",
    "import pandas as pd\n",
    "import matplotlib.pyplot as plt\n",
    "import lifelines as ll\n",
    "\n",
    "\n",
    "# một số function lặp lại\n",
    "def plot_time_to_evt():\n",
    "    plt.barh(range(1,11), time_follow, height=0.2, left=time_attend)\n",
    "    for i, v in enumerate(np.sum([time_attend, time_follow],axis=0)):\n",
    "        plt.text(v,i+1, event[i])\n",
    "    plt.gca().invert_yaxis()\n",
    "    plt.xlabel('Years')\n",
    "    plt.ylabel('Participants')\n",
    "    plt.xticks(range(13))\n",
    "    plt.yticks(range(1,11))\n",
    "    \n",
    "def plot_1_kmf(df, label=None, xlabel='month', ylabel='P(survival)'):\n",
    "    kmf = ll.KaplanMeierFitter()\n",
    "    kmf.fit(durations=df.iloc[:,0],\n",
    "            event_observed=df.iloc[:,1],\n",
    "            label=label)\n",
    "    ax = kmf.plot()\n",
    "    ax.set_xlabel(xlabel)\n",
    "    ax.set_ylabel(ylabel)\n",
    "    return ax, kmf\n",
    "\n",
    "def plot_2_kmf(df, xlabel='month', ylabel='P(survival)'):\n",
    "    '''\n",
    "    df: a 4-columns pd.DataFrame, with\n",
    "        col0, col2: time to event\n",
    "        col1, col3: event\n",
    "    '''\n",
    "    g_1 = df.columns[0][0]\n",
    "    g_2 = df.columns[2][0]\n",
    "    \n",
    "    kmf = ll.KaplanMeierFitter()\n",
    "    kmf.fit(durations=df.iloc[:,0],\n",
    "            event_observed=df.iloc[:,1],\n",
    "            label=g_1)\n",
    "    ax = kmf.plot()\n",
    "    kmf.fit(durations=df.iloc[:,2],\n",
    "            event_observed=df.iloc[:,3],\n",
    "            label=g_2)\n",
    "    kmf.plot(ax=ax)\n",
    "    ax.set_xlabel(xlabel)\n",
    "    ax.set_ylabel(ylabel)\n",
    "    return ax, kmf\n",
    "    \n",
    "def create_survival_table(df):\n",
    "    df0_ = pd.concat([df.iloc[:,0], pd.Series(np.ones(len(df)))], axis=1)\n",
    "    df0_.columns =['time to EVT', 'EVT']\n",
    "    df1_ = pd.concat([df.iloc[:,1], pd.Series(np.zeros(len(df)))], axis=1)\n",
    "    df1_.columns =['time to EVT', 'EVT']\n",
    "    return pd.concat([df0_, df1_], axis=0).dropna().reset_index(drop=True)\n",
    "\n",
    "def convert_to_survival(df):\n",
    "    g_1 = df.columns[0][0]\n",
    "    g_2 = df.columns[2][0]\n",
    "    df1_ = create_survival_table(df[g_1]) \n",
    "    df2_ = create_survival_table(df[g_2]) \n",
    "    return pd.concat([df1_,df2_], axis=1, keys=[g_1,g_2])\n",
    "\n",
    "def logrank(df):\n",
    "    '''\n",
    "    df: a 4-columns pd.DataFrame, with\n",
    "        col0, col2: time to event\n",
    "        col1, col3: event\n",
    "    '''\n",
    "    result= ll.statistics.logrank_test(durations_A=df.iloc[:,0],\n",
    "                                       durations_B=df.iloc[:,2],\n",
    "                                       event_observed_A=df.iloc[:,1],\n",
    "                                       event_observed_B=df.iloc[:,3])\n",
    "    result.print_summary()"
   ]
  },
  {
   "cell_type": "markdown",
   "metadata": {},
   "source": [
    "--- end skip ---\n",
    "\n",
    "---"
   ]
  },
  {
   "cell_type": "markdown",
   "metadata": {},
   "source": [
    "# I. Một số đặc tính của time-to-event\n",
    "- Phân phối bị skewed do time luôn luôn dương.\n",
    "- Dữ liệu không đầy đủ do các đối tượng bị:\n",
    "    - Mất liên lạc\n",
    "    - Chết đột ngột do nguyên nhân khác ( nếu chết không phải event quan tâm)\n",
    "    - Không bị event suốt thời gian nghiên cứu\n",
    "- Khi đó, time-to-true-event bị che đậy, ( dài hơn time-to-event thu thập được), ngta gọi đó là censored time, hay chính xác hơn là right-censoring."
   ]
  },
  {
   "cell_type": "markdown",
   "metadata": {},
   "source": [
    "## Ví dụ:\n",
    "Nghiên cứu 10 bệnh nhân trong 10 năm, theo dõi cơn đột quỵ tim.  \n",
    "Bệnh nhân được cho mẫu nghiên cứu trong vòng 2 năm đầu và theo dõi 10 năm tiếp theo.  \n",
    "Trong đó, một số bệnh nhân tham gia trễ."
   ]
  },
  {
   "cell_type": "code",
   "execution_count": 2,
   "metadata": {},
   "outputs": [],
   "source": [
    "time_attend = [1,0,2,0,1,1,0,2,0,1]\n",
    "time_follow = [10,4,9,4,7,10,2,10,10,3]\n",
    "event = ['free', 'MI', 'MI', 'dropout', 'MI', 'free', 'dropout', 'free', 'free', 'death']"
   ]
  },
  {
   "cell_type": "code",
   "execution_count": 3,
   "metadata": {},
   "outputs": [
    {
     "data": {
      "image/png": "[encoded data removed]",
      "text/plain": [
       "<Figure size 432x288 with 1 Axes>"
      ]
     },
     "metadata": {
      "needs_background": "light"
     },
     "output_type": "display_data"
    }
   ],
   "source": [
    "plot_time_to_evt()\n",
    "plt.title('Nghiên cứu đột quỵ tim, theo dõi bn trong 10 năm');"
   ]
  },
  {
   "cell_type": "code",
   "execution_count": 4,
   "metadata": {},
   "outputs": [
    {
     "data": {
      "image/png": "[encoded data removed]",
      "text/plain": [
       "<Figure size 432x288 with 1 Axes>"
      ]
     },
     "metadata": {
      "needs_background": "light"
     },
     "output_type": "display_data"
    }
   ],
   "source": [
    "# làm cho cùng vạch xuất phát\n",
    "time_attend = np.zeros(10)\n",
    "plot_time_to_evt()\n",
    "plt.title('Nghiên cứu đột quỵ tim, theo dõi bn trong 10 năm\\n(cùng vạch xuất phát)');"
   ]
  },
  {
   "cell_type": "markdown",
   "metadata": {},
   "source": [
    "Trong nghiên cứu này, P(MI) = 30%, tuy nhiên, data này bị censored, nên con số P này có thể thấp hơn sự thật. Hoặc nếu ta loại trừ 3 ca bị death và dropout, P(MI) = 3/7 = 43%, khác hoàn toàn với 30%. Kiểu tính tỉ lệ không áp được với data này.\n",
    "\n",
    "Survival analysis tận dùng những **thông tin** time-to-event mà event chưa xảy ra, như DropOut, Death, EventFree,..  \n",
    "Một trong những **tiền đề** để sử dụng data bị censored đó là **data bị censored độc lập với event.**  \n",
    "Đây còn gọi là noninformative censoring.\n",
    "\n",
    "Giả sử cùng nghiên cứu với 10 bn khác:"
   ]
  },
  {
   "cell_type": "code",
   "execution_count": 5,
   "metadata": {},
   "outputs": [
    {
     "data": {
      "image/png": "[encoded data removed]",
      "text/plain": [
       "<Figure size 432x288 with 1 Axes>"
      ]
     },
     "metadata": {
      "needs_background": "light"
     },
     "output_type": "display_data"
    }
   ],
   "source": [
    "time_follow = [10,1,2,9,2,10,8,10,10,8]\n",
    "plot_time_to_evt()"
   ]
  },
  {
   "cell_type": "markdown",
   "metadata": {},
   "source": [
    "Tình huống này, ta nhận thấy, so với data cũ, event đột quỵ tim xảy ra sớm hơn, dropout và death xảy ra trễ hơn.  \n",
    "Liệu P(MI) của data mới này có khác với data cũ?  \n",
    "Trong survival analysis, ta không chỉ dùng số đối tượng bị event, mà còn thời để xảy ra event."
   ]
  },
  {
   "cell_type": "markdown",
   "metadata": {},
   "source": [
    "# II. Giới thiệu\n",
    "Trong survival analysis, ta thu thập 2 loại dữ liệu.  \n",
    "- Có xảy ra Event hay không, được coded là 1,0\n",
    "- Thời gian tới Event, tính từ thời điểm bắt đầu có yếu tố nguy cơ, thường là thời điểm bắt đầu nghiên cứu.\n",
    "\n",
    "Chúng ta dùng 2 loại data này để ước lượng một survival function.\n",
    "<img src='https://upload.wikimedia.org/wikipedia/commons/thumb/b/b3/Survival_function_1.svg/800px-Survival_function_1.svg.png' width=500 align='left'></img>\n",
    "\n",
    "Tại thời điểm zero, xác suất sống là 100%, theo thời gian, P(sống) giảm dần.\n",
    "\n",
    "Ta quan tâm thời điểm mà P(sống)=50%, gọi là **thời điểm trung vị sống còn**, ví dụ như hình là P(sống | time=1.5 month) = 50%\n",
    "\n",
    "Survival function có thể là step function (hình bậc thang)"
   ]
  },
  {
   "cell_type": "markdown",
   "metadata": {},
   "source": [
    "# III. Kaplan Meier, một trong những pp tìm đường cong sống còn\n",
    "<img src=\"https://upload.wikimedia.org/wikipedia/commons/7/73/Km_plot.jpg\" align='left'></img>\n",
    "Xác suất sống còn tại thời điểm origin = 1,  \n",
    "Xác suất sống còn tại thời điểm t+1 =\n",
    "\n",
    "$$S(t+1) = S(t) \\times \\frac{N_{t+1} - D_{t+1}}{N_{t+1}}$$\n",
    "- N: số lượng mẫu còn lại sau khi trừ Death và Censor\n",
    "- D: số lượng Death\n",
    "- S: Survival function\n",
    "\n",
    "Có thể tính khoảng tin cậy bằng *pp Greenwood*, *Exponential*."
   ]
  },
  {
   "cell_type": "markdown",
   "metadata": {},
   "source": [
    "## Ví dụ:\n",
    "Nghiên cứu thời gian đên tử vong ở 20 người >=65t, theo dõi trong 24 tháng."
   ]
  },
  {
   "cell_type": "code",
   "execution_count": 6,
   "metadata": {},
   "outputs": [
    {
     "data": {
      "text/html": [
       "<div>\n",
       "<style scoped>\n",
       "    .dataframe tbody tr th:only-of-type {\n",
       "        vertical-align: middle;\n",
       "    }\n",
       "\n",
       "    .dataframe tbody tr th {\n",
       "        vertical-align: top;\n",
       "    }\n",
       "\n",
       "    .dataframe thead th {\n",
       "        text-align: right;\n",
       "    }\n",
       "</style>\n",
       "<table border=\"1\" class=\"dataframe\">\n",
       "  <thead>\n",
       "    <tr style=\"text-align: right;\">\n",
       "      <th></th>\n",
       "      <th>Time to event</th>\n",
       "      <th>Death</th>\n",
       "    </tr>\n",
       "    <tr>\n",
       "      <th>Participant ID</th>\n",
       "      <th></th>\n",
       "      <th></th>\n",
       "    </tr>\n",
       "  </thead>\n",
       "  <tbody>\n",
       "    <tr>\n",
       "      <th>1</th>\n",
       "      <td>24</td>\n",
       "      <td>0</td>\n",
       "    </tr>\n",
       "    <tr>\n",
       "      <th>2</th>\n",
       "      <td>3</td>\n",
       "      <td>1</td>\n",
       "    </tr>\n",
       "    <tr>\n",
       "      <th>3</th>\n",
       "      <td>11</td>\n",
       "      <td>0</td>\n",
       "    </tr>\n",
       "    <tr>\n",
       "      <th>4</th>\n",
       "      <td>19</td>\n",
       "      <td>0</td>\n",
       "    </tr>\n",
       "    <tr>\n",
       "      <th>5</th>\n",
       "      <td>24</td>\n",
       "      <td>0</td>\n",
       "    </tr>\n",
       "  </tbody>\n",
       "</table>\n",
       "</div>"
      ],
      "text/plain": [
       "                Time to event  Death\n",
       "Participant ID                      \n",
       "1                          24      0\n",
       "2                           3      1\n",
       "3                          11      0\n",
       "4                          19      0\n",
       "5                          24      0"
      ]
     },
     "execution_count": 6,
     "metadata": {},
     "output_type": "execute_result"
    }
   ],
   "source": [
    "df = pd.DataFrame(np.array([[24,3,11,19,24,13,14,2,18,17,24,21,12,1,10,23,6,5,9,17],\n",
    "                  [0,1,0,0,0,0,1,0,0,0,0,0,0,1,0,1,0,1,0,1]]).T,\n",
    "                 index=range(1,21),\n",
    "                 columns=['Time to event', 'Death'])\n",
    "df.index.name='Participant ID'\n",
    "df.head()"
   ]
  },
  {
   "cell_type": "code",
   "execution_count": 7,
   "metadata": {},
   "outputs": [
    {
     "data": {
      "image/png": "[encoded data removed]",
      "text/plain": [
       "<Figure size 432x288 with 1 Axes>"
      ]
     },
     "metadata": {
      "needs_background": "light"
     },
     "output_type": "display_data"
    }
   ],
   "source": [
    "ax,kmf = plot_1_kmf(df,label=r'age$\\geq$65')\n",
    "ax.set_title('Tỉ lệ sống khi độ tuổi tăng dần, với khoảng tin cậy 95%');"
   ]
  },
  {
   "cell_type": "code",
   "execution_count": 9,
   "metadata": {},
   "outputs": [
    {
     "data": {
      "text/plain": [
       "inf"
      ]
     },
     "execution_count": 9,
     "metadata": {},
     "output_type": "execute_result"
    }
   ],
   "source": [
    "# trung vị sống còn\n",
    "kmf.median_survival_time_\n",
    "# inf là infinity, ở đây là 24 tháng."
   ]
  },
  {
   "cell_type": "code",
   "execution_count": 10,
   "metadata": {},
   "outputs": [
    {
     "data": {
      "text/html": [
       "<div>\n",
       "<style scoped>\n",
       "    .dataframe tbody tr th:only-of-type {\n",
       "        vertical-align: middle;\n",
       "    }\n",
       "\n",
       "    .dataframe tbody tr th {\n",
       "        vertical-align: top;\n",
       "    }\n",
       "\n",
       "    .dataframe thead th {\n",
       "        text-align: right;\n",
       "    }\n",
       "</style>\n",
       "<table border=\"1\" class=\"dataframe\">\n",
       "  <thead>\n",
       "    <tr style=\"text-align: right;\">\n",
       "      <th></th>\n",
       "      <th>age$\\geq$65_lower_0.95</th>\n",
       "      <th>age$\\geq$65_upper_0.95</th>\n",
       "    </tr>\n",
       "  </thead>\n",
       "  <tbody>\n",
       "    <tr>\n",
       "      <th>0.0</th>\n",
       "      <td>1.000000</td>\n",
       "      <td>1.000000</td>\n",
       "    </tr>\n",
       "    <tr>\n",
       "      <th>1.0</th>\n",
       "      <td>0.694743</td>\n",
       "      <td>0.992802</td>\n",
       "    </tr>\n",
       "    <tr>\n",
       "      <th>2.0</th>\n",
       "      <td>0.694743</td>\n",
       "      <td>0.992802</td>\n",
       "    </tr>\n",
       "    <tr>\n",
       "      <th>3.0</th>\n",
       "      <td>0.647529</td>\n",
       "      <td>0.973299</td>\n",
       "    </tr>\n",
       "    <tr>\n",
       "      <th>5.0</th>\n",
       "      <td>0.591142</td>\n",
       "      <td>0.947073</td>\n",
       "    </tr>\n",
       "  </tbody>\n",
       "</table>\n",
       "</div>"
      ],
      "text/plain": [
       "     age$\\geq$65_lower_0.95  age$\\geq$65_upper_0.95\n",
       "0.0                1.000000                1.000000\n",
       "1.0                0.694743                0.992802\n",
       "2.0                0.694743                0.992802\n",
       "3.0                0.647529                0.973299\n",
       "5.0                0.591142                0.947073"
      ]
     },
     "execution_count": 10,
     "metadata": {},
     "output_type": "execute_result"
    }
   ],
   "source": [
    "kmf.confidence_interval_.head()"
   ]
  },
  {
   "cell_type": "code",
   "execution_count": 11,
   "metadata": {},
   "outputs": [
    {
     "data": {
      "image/png": "[encoded data removed]",
      "text/plain": [
       "<Figure size 432x288 with 1 Axes>"
      ]
     },
     "metadata": {
      "needs_background": "light"
     },
     "output_type": "display_data"
    }
   ],
   "source": [
    "# Một số ng thích vẽ ngược lại\n",
    "ax = kmf.plot_cumulative_density()\n",
    "ax.set_xlabel('months')\n",
    "ax.set_ylabel(\"P(Death)\");"
   ]
  },
  {
   "cell_type": "code",
   "execution_count": 12,
   "metadata": {},
   "outputs": [
    {
     "data": {
      "text/plain": [
       "0.76"
      ]
     },
     "execution_count": 12,
     "metadata": {},
     "output_type": "execute_result"
    }
   ],
   "source": [
    "# P( Survival | 15 months)\n",
    "kmf.predict(15)"
   ]
  },
  {
   "cell_type": "code",
   "execution_count": 13,
   "metadata": {},
   "outputs": [
    {
     "data": {
      "text/plain": [
       "0.24"
      ]
     },
     "execution_count": 13,
     "metadata": {},
     "output_type": "execute_result"
    }
   ],
   "source": [
    "# P( Death | 15 months) = 1 - p(survival|15months)\n",
    "1 - kmf.predict(15)"
   ]
  },
  {
   "cell_type": "markdown",
   "metadata": {},
   "source": [
    "# IV. KMF 2 nhóm: so sánh 2 survival bằng đồ hoạ"
   ]
  },
  {
   "cell_type": "markdown",
   "metadata": {},
   "source": [
    "## Ví dụ:\n",
    "Một trial trên 20 bn K dạ dày stage 4.  \n",
    "Họ được ngẫu nhiên gán vào 2 nhóm: hoá trị trước phẫu thuật, và hoá trị sau phẫu thuật.  \n",
    "Outcome là Death, theo dõi trong 48 tháng"
   ]
  },
  {
   "cell_type": "code",
   "execution_count": 14,
   "metadata": {},
   "outputs": [
    {
     "data": {
      "text/html": [
       "<style  type=\"text/css\" >\n",
       "</style><table id=\"T_cdef6522_6c08_11ea_b731_a8667f380c73\" ><thead>    <tr>        <th class=\"col_heading level0 col0\" colspan=2>Chemotherapy Before Surgery</th>        <th class=\"col_heading level0 col2\" colspan=2>Chemotherapy After Surgery</th>    </tr>    <tr>        <th class=\"col_heading level1 col0\" >Month of Death</th>        <th class=\"col_heading level1 col1\" >Month of Last Contact</th>        <th class=\"col_heading level1 col2\" >Month of Death</th>        <th class=\"col_heading level1 col3\" >Month of Last Contact</th>    </tr></thead><tbody>\n",
       "                <tr>\n",
       "                                <td id=\"T_cdef6522_6c08_11ea_b731_a8667f380c73row0_col0\" class=\"data row0 col0\" >8</td>\n",
       "                        <td id=\"T_cdef6522_6c08_11ea_b731_a8667f380c73row0_col1\" class=\"data row0 col1\" >8</td>\n",
       "                        <td id=\"T_cdef6522_6c08_11ea_b731_a8667f380c73row0_col2\" class=\"data row0 col2\" >33</td>\n",
       "                        <td id=\"T_cdef6522_6c08_11ea_b731_a8667f380c73row0_col3\" class=\"data row0 col3\" >48</td>\n",
       "            </tr>\n",
       "            <tr>\n",
       "                                <td id=\"T_cdef6522_6c08_11ea_b731_a8667f380c73row1_col0\" class=\"data row1 col0\" >12</td>\n",
       "                        <td id=\"T_cdef6522_6c08_11ea_b731_a8667f380c73row1_col1\" class=\"data row1 col1\" >32</td>\n",
       "                        <td id=\"T_cdef6522_6c08_11ea_b731_a8667f380c73row1_col2\" class=\"data row1 col2\" >28</td>\n",
       "                        <td id=\"T_cdef6522_6c08_11ea_b731_a8667f380c73row1_col3\" class=\"data row1 col3\" >48</td>\n",
       "            </tr>\n",
       "            <tr>\n",
       "                                <td id=\"T_cdef6522_6c08_11ea_b731_a8667f380c73row2_col0\" class=\"data row2 col0\" >26</td>\n",
       "                        <td id=\"T_cdef6522_6c08_11ea_b731_a8667f380c73row2_col1\" class=\"data row2 col1\" >20</td>\n",
       "                        <td id=\"T_cdef6522_6c08_11ea_b731_a8667f380c73row2_col2\" class=\"data row2 col2\" >41</td>\n",
       "                        <td id=\"T_cdef6522_6c08_11ea_b731_a8667f380c73row2_col3\" class=\"data row2 col3\" >25</td>\n",
       "            </tr>\n",
       "            <tr>\n",
       "                                <td id=\"T_cdef6522_6c08_11ea_b731_a8667f380c73row3_col0\" class=\"data row3 col0\" >14</td>\n",
       "                        <td id=\"T_cdef6522_6c08_11ea_b731_a8667f380c73row3_col1\" class=\"data row3 col1\" >40</td>\n",
       "                        <td id=\"T_cdef6522_6c08_11ea_b731_a8667f380c73row3_col2\" class=\"data row3 col2\" ></td>\n",
       "                        <td id=\"T_cdef6522_6c08_11ea_b731_a8667f380c73row3_col3\" class=\"data row3 col3\" >37</td>\n",
       "            </tr>\n",
       "            <tr>\n",
       "                                <td id=\"T_cdef6522_6c08_11ea_b731_a8667f380c73row4_col0\" class=\"data row4 col0\" >21</td>\n",
       "                        <td id=\"T_cdef6522_6c08_11ea_b731_a8667f380c73row4_col1\" class=\"data row4 col1\" ></td>\n",
       "                        <td id=\"T_cdef6522_6c08_11ea_b731_a8667f380c73row4_col2\" class=\"data row4 col2\" ></td>\n",
       "                        <td id=\"T_cdef6522_6c08_11ea_b731_a8667f380c73row4_col3\" class=\"data row4 col3\" >48</td>\n",
       "            </tr>\n",
       "            <tr>\n",
       "                                <td id=\"T_cdef6522_6c08_11ea_b731_a8667f380c73row5_col0\" class=\"data row5 col0\" >27</td>\n",
       "                        <td id=\"T_cdef6522_6c08_11ea_b731_a8667f380c73row5_col1\" class=\"data row5 col1\" ></td>\n",
       "                        <td id=\"T_cdef6522_6c08_11ea_b731_a8667f380c73row5_col2\" class=\"data row5 col2\" ></td>\n",
       "                        <td id=\"T_cdef6522_6c08_11ea_b731_a8667f380c73row5_col3\" class=\"data row5 col3\" >25</td>\n",
       "            </tr>\n",
       "            <tr>\n",
       "                                <td id=\"T_cdef6522_6c08_11ea_b731_a8667f380c73row6_col0\" class=\"data row6 col0\" ></td>\n",
       "                        <td id=\"T_cdef6522_6c08_11ea_b731_a8667f380c73row6_col1\" class=\"data row6 col1\" ></td>\n",
       "                        <td id=\"T_cdef6522_6c08_11ea_b731_a8667f380c73row6_col2\" class=\"data row6 col2\" ></td>\n",
       "                        <td id=\"T_cdef6522_6c08_11ea_b731_a8667f380c73row6_col3\" class=\"data row6 col3\" >43</td>\n",
       "            </tr>\n",
       "    </tbody></table>"
      ],
      "text/plain": [
       "<pandas.io.formats.style.Styler at 0x11f515090>"
      ]
     },
     "execution_count": 14,
     "metadata": {},
     "output_type": "execute_result"
    }
   ],
   "source": [
    "cols = [['Chemotherapy Before Surgery','Chemotherapy After Surgery'],\n",
    "        ['Month of Death', 'Month of Last Contact']]\n",
    "df2 = pd.DataFrame(np.array([[8, 12, 26, 14,    21,     27,     np.nan],\n",
    "                            [ 8, 32, 20, 40,    np.nan, np.nan, np.nan],\n",
    "                            [33, 28, 41, np.nan,np.nan, np.nan, np.nan],\n",
    "                            [48, 48, 25, 37,    48,     25,     43]]).T,\n",
    "                   columns=pd.MultiIndex.from_product(cols)\n",
    "                  )\n",
    "df2.replace(np.nan,\"\").style.hide_index().set_precision(0)"
   ]
  },
  {
   "cell_type": "code",
   "execution_count": 15,
   "metadata": {},
   "outputs": [
    {
     "data": {
      "text/html": [
       "<div>\n",
       "<style scoped>\n",
       "    .dataframe tbody tr th:only-of-type {\n",
       "        vertical-align: middle;\n",
       "    }\n",
       "\n",
       "    .dataframe tbody tr th {\n",
       "        vertical-align: top;\n",
       "    }\n",
       "\n",
       "    .dataframe thead tr th {\n",
       "        text-align: left;\n",
       "    }\n",
       "</style>\n",
       "<table border=\"1\" class=\"dataframe\">\n",
       "  <thead>\n",
       "    <tr>\n",
       "      <th></th>\n",
       "      <th colspan=\"2\" halign=\"left\">Chemotherapy Before Surgery</th>\n",
       "      <th colspan=\"2\" halign=\"left\">Chemotherapy After Surgery</th>\n",
       "    </tr>\n",
       "    <tr>\n",
       "      <th></th>\n",
       "      <th>time to EVT</th>\n",
       "      <th>EVT</th>\n",
       "      <th>time to EVT</th>\n",
       "      <th>EVT</th>\n",
       "    </tr>\n",
       "  </thead>\n",
       "  <tbody>\n",
       "    <tr>\n",
       "      <th>0</th>\n",
       "      <td>8.0</td>\n",
       "      <td>1.0</td>\n",
       "      <td>33.0</td>\n",
       "      <td>1.0</td>\n",
       "    </tr>\n",
       "    <tr>\n",
       "      <th>1</th>\n",
       "      <td>12.0</td>\n",
       "      <td>1.0</td>\n",
       "      <td>28.0</td>\n",
       "      <td>1.0</td>\n",
       "    </tr>\n",
       "    <tr>\n",
       "      <th>2</th>\n",
       "      <td>26.0</td>\n",
       "      <td>1.0</td>\n",
       "      <td>41.0</td>\n",
       "      <td>1.0</td>\n",
       "    </tr>\n",
       "    <tr>\n",
       "      <th>3</th>\n",
       "      <td>14.0</td>\n",
       "      <td>1.0</td>\n",
       "      <td>48.0</td>\n",
       "      <td>0.0</td>\n",
       "    </tr>\n",
       "    <tr>\n",
       "      <th>4</th>\n",
       "      <td>21.0</td>\n",
       "      <td>1.0</td>\n",
       "      <td>48.0</td>\n",
       "      <td>0.0</td>\n",
       "    </tr>\n",
       "    <tr>\n",
       "      <th>5</th>\n",
       "      <td>27.0</td>\n",
       "      <td>1.0</td>\n",
       "      <td>25.0</td>\n",
       "      <td>0.0</td>\n",
       "    </tr>\n",
       "    <tr>\n",
       "      <th>6</th>\n",
       "      <td>8.0</td>\n",
       "      <td>0.0</td>\n",
       "      <td>37.0</td>\n",
       "      <td>0.0</td>\n",
       "    </tr>\n",
       "    <tr>\n",
       "      <th>7</th>\n",
       "      <td>32.0</td>\n",
       "      <td>0.0</td>\n",
       "      <td>48.0</td>\n",
       "      <td>0.0</td>\n",
       "    </tr>\n",
       "    <tr>\n",
       "      <th>8</th>\n",
       "      <td>20.0</td>\n",
       "      <td>0.0</td>\n",
       "      <td>25.0</td>\n",
       "      <td>0.0</td>\n",
       "    </tr>\n",
       "    <tr>\n",
       "      <th>9</th>\n",
       "      <td>40.0</td>\n",
       "      <td>0.0</td>\n",
       "      <td>43.0</td>\n",
       "      <td>0.0</td>\n",
       "    </tr>\n",
       "  </tbody>\n",
       "</table>\n",
       "</div>"
      ],
      "text/plain": [
       "  Chemotherapy Before Surgery      Chemotherapy After Surgery     \n",
       "                  time to EVT  EVT                time to EVT  EVT\n",
       "0                         8.0  1.0                       33.0  1.0\n",
       "1                        12.0  1.0                       28.0  1.0\n",
       "2                        26.0  1.0                       41.0  1.0\n",
       "3                        14.0  1.0                       48.0  0.0\n",
       "4                        21.0  1.0                       48.0  0.0\n",
       "5                        27.0  1.0                       25.0  0.0\n",
       "6                         8.0  0.0                       37.0  0.0\n",
       "7                        32.0  0.0                       48.0  0.0\n",
       "8                        20.0  0.0                       25.0  0.0\n",
       "9                        40.0  0.0                       43.0  0.0"
      ]
     },
     "execution_count": 15,
     "metadata": {},
     "output_type": "execute_result"
    }
   ],
   "source": [
    "df2 = convert_to_survival(df2)\n",
    "df2"
   ]
  },
  {
   "cell_type": "code",
   "execution_count": 16,
   "metadata": {},
   "outputs": [
    {
     "data": {
      "image/png": "[encoded data removed]",
      "text/plain": [
       "<Figure size 432x288 with 1 Axes>"
      ]
     },
     "metadata": {
      "needs_background": "light"
     },
     "output_type": "display_data"
    }
   ],
   "source": [
    "ax, kmf2 = plot_2_kmf(df2)"
   ]
  },
  {
   "cell_type": "markdown",
   "metadata": {},
   "source": [
    "Ta thấy rằng xác suất sống của nhóm hoá trị sau phẫu thuật cao hơn hẳn.  \n",
    "Tuy nhiên, do vấn để cỡ mẫu nhỏ, power không cao, vậy xác suất sống của 2 nhóm khác nhau có significant không?"
   ]
  },
  {
   "cell_type": "markdown",
   "metadata": {},
   "source": [
    "# V. Log rank test: so sánh 2 survival bằng test\n",
    "Ta dùng log rank test để thử significance của sự khác nhau của 2 survival functions.\n",
    "\n",
    "## Dùng ví dụ trên:"
   ]
  },
  {
   "cell_type": "code",
   "execution_count": 17,
   "metadata": {},
   "outputs": [
    {
     "data": {
      "text/html": [
       "<div>\n",
       "<style scoped>\n",
       "    .dataframe tbody tr th:only-of-type {\n",
       "        vertical-align: middle;\n",
       "    }\n",
       "\n",
       "    .dataframe tbody tr th {\n",
       "        vertical-align: top;\n",
       "    }\n",
       "\n",
       "    .dataframe thead th {\n",
       "        text-align: right;\n",
       "    }\n",
       "</style>\n",
       "<table border=\"1\" class=\"dataframe\">\n",
       "  <tbody>\n",
       "    <tr>\n",
       "      <th>t_0</th>\n",
       "      <td>-1</td>\n",
       "    </tr>\n",
       "    <tr>\n",
       "      <th>null_distribution</th>\n",
       "      <td>chi squared</td>\n",
       "    </tr>\n",
       "    <tr>\n",
       "      <th>degrees_of_freedom</th>\n",
       "      <td>1</td>\n",
       "    </tr>\n",
       "    <tr>\n",
       "      <th>test_name</th>\n",
       "      <td>logrank_test</td>\n",
       "    </tr>\n",
       "  </tbody>\n",
       "</table>\n",
       "</div><table border=\"1\" class=\"dataframe\">\n",
       "  <thead>\n",
       "    <tr style=\"text-align: right;\">\n",
       "      <th></th>\n",
       "      <th>test_statistic</th>\n",
       "      <th>p</th>\n",
       "    </tr>\n",
       "  </thead>\n",
       "  <tbody>\n",
       "    <tr>\n",
       "      <th>0</th>\n",
       "      <td>6.92</td>\n",
       "      <td>0.01</td>\n",
       "    </tr>\n",
       "  </tbody>\n",
       "</table>"
      ],
      "text/plain": [
       "<IPython.core.display.HTML object>"
      ]
     },
     "metadata": {},
     "output_type": "display_data"
    }
   ],
   "source": [
    "logrank(df2)"
   ]
  },
  {
   "cell_type": "markdown",
   "metadata": {},
   "source": [
    "**Với pval=0.01<0.05, ta kết luận 2 nhóm có survival function khác nhau có ý nghĩa thống kê.**"
   ]
  },
  {
   "cell_type": "markdown",
   "metadata": {},
   "source": [
    "## Ví dụ:\n",
    "Một nghiên cứu về hiệu quả của một can thiệp nhỏ để hạn chế rượu ở phụ nữ thai 18 tuần.  \n",
    "n=16 phụ nữ nghiện rượu mang thai 18w, được ngẫu nhiên lựa chọn để sử dụng can thiệp.  \n",
    "Outcome là thời gian bắt đầu nghiên cứu đến lần dùng lại rượu đầu tiên, hoặc alcohol free lúc kết thúc nghiên cứu.  \n",
    "Thời gian kết thúc là thai 39w."
   ]
  },
  {
   "cell_type": "code",
   "execution_count": 18,
   "metadata": {},
   "outputs": [
    {
     "data": {
      "text/html": [
       "<style  type=\"text/css\" >\n",
       "</style><table id=\"T_ce4211be_6c08_11ea_b731_a8667f380c73\" ><thead>    <tr>        <th class=\"col_heading level0 col0\" colspan=2>Standard Prenatal Care</th>        <th class=\"col_heading level0 col2\" colspan=2>Brief Intervention</th>    </tr>    <tr>        <th class=\"col_heading level1 col0\" >Relapse</th>        <th class=\"col_heading level1 col1\" >No Relapse</th>        <th class=\"col_heading level1 col2\" >Relapse</th>        <th class=\"col_heading level1 col3\" >No Relapse</th>    </tr></thead><tbody>\n",
       "                <tr>\n",
       "                                <td id=\"T_ce4211be_6c08_11ea_b731_a8667f380c73row0_col0\" class=\"data row0 col0\" >19</td>\n",
       "                        <td id=\"T_ce4211be_6c08_11ea_b731_a8667f380c73row0_col1\" class=\"data row0 col1\" >20</td>\n",
       "                        <td id=\"T_ce4211be_6c08_11ea_b731_a8667f380c73row0_col2\" class=\"data row0 col2\" >16</td>\n",
       "                        <td id=\"T_ce4211be_6c08_11ea_b731_a8667f380c73row0_col3\" class=\"data row0 col3\" >21</td>\n",
       "            </tr>\n",
       "            <tr>\n",
       "                                <td id=\"T_ce4211be_6c08_11ea_b731_a8667f380c73row1_col0\" class=\"data row1 col0\" >6</td>\n",
       "                        <td id=\"T_ce4211be_6c08_11ea_b731_a8667f380c73row1_col1\" class=\"data row1 col1\" >19</td>\n",
       "                        <td id=\"T_ce4211be_6c08_11ea_b731_a8667f380c73row1_col2\" class=\"data row1 col2\" >21</td>\n",
       "                        <td id=\"T_ce4211be_6c08_11ea_b731_a8667f380c73row1_col3\" class=\"data row1 col3\" >15</td>\n",
       "            </tr>\n",
       "            <tr>\n",
       "                                <td id=\"T_ce4211be_6c08_11ea_b731_a8667f380c73row2_col0\" class=\"data row2 col0\" >5</td>\n",
       "                        <td id=\"T_ce4211be_6c08_11ea_b731_a8667f380c73row2_col1\" class=\"data row2 col1\" >17</td>\n",
       "                        <td id=\"T_ce4211be_6c08_11ea_b731_a8667f380c73row2_col2\" class=\"data row2 col2\" >7</td>\n",
       "                        <td id=\"T_ce4211be_6c08_11ea_b731_a8667f380c73row2_col3\" class=\"data row2 col3\" >18</td>\n",
       "            </tr>\n",
       "            <tr>\n",
       "                                <td id=\"T_ce4211be_6c08_11ea_b731_a8667f380c73row3_col0\" class=\"data row3 col0\" >4</td>\n",
       "                        <td id=\"T_ce4211be_6c08_11ea_b731_a8667f380c73row3_col1\" class=\"data row3 col1\" >14</td>\n",
       "                        <td id=\"T_ce4211be_6c08_11ea_b731_a8667f380c73row3_col2\" class=\"data row3 col2\" ></td>\n",
       "                        <td id=\"T_ce4211be_6c08_11ea_b731_a8667f380c73row3_col3\" class=\"data row3 col3\" >18</td>\n",
       "            </tr>\n",
       "            <tr>\n",
       "                                <td id=\"T_ce4211be_6c08_11ea_b731_a8667f380c73row4_col0\" class=\"data row4 col0\" ></td>\n",
       "                        <td id=\"T_ce4211be_6c08_11ea_b731_a8667f380c73row4_col1\" class=\"data row4 col1\" ></td>\n",
       "                        <td id=\"T_ce4211be_6c08_11ea_b731_a8667f380c73row4_col2\" class=\"data row4 col2\" ></td>\n",
       "                        <td id=\"T_ce4211be_6c08_11ea_b731_a8667f380c73row4_col3\" class=\"data row4 col3\" >5</td>\n",
       "            </tr>\n",
       "    </tbody></table>"
      ],
      "text/plain": [
       "<pandas.io.formats.style.Styler at 0x11f35aa10>"
      ]
     },
     "execution_count": 18,
     "metadata": {},
     "output_type": "execute_result"
    }
   ],
   "source": [
    "cols2 = [['Standard Prenatal Care','Brief Intervention'],\n",
    "        ['Relapse', 'No Relapse']]\n",
    "df3 = pd.DataFrame(np.array([[19, 6, 5, 4, np.nan],\n",
    "                            [ 20, 19,17,14, np.nan],\n",
    "                            [16, 21, 7, np.nan, np.nan],\n",
    "                            [21,15,18,18,5]]).T,\n",
    "                   columns=pd.MultiIndex.from_product(cols2)\n",
    "                  )\n",
    "df3.replace(np.nan,\"\").style.hide_index().set_precision(0)"
   ]
  },
  {
   "cell_type": "code",
   "execution_count": 19,
   "metadata": {},
   "outputs": [
    {
     "data": {
      "text/html": [
       "<div>\n",
       "<style scoped>\n",
       "    .dataframe tbody tr th:only-of-type {\n",
       "        vertical-align: middle;\n",
       "    }\n",
       "\n",
       "    .dataframe tbody tr th {\n",
       "        vertical-align: top;\n",
       "    }\n",
       "\n",
       "    .dataframe thead tr th {\n",
       "        text-align: left;\n",
       "    }\n",
       "</style>\n",
       "<table border=\"1\" class=\"dataframe\">\n",
       "  <thead>\n",
       "    <tr>\n",
       "      <th></th>\n",
       "      <th colspan=\"2\" halign=\"left\">Standard Prenatal Care</th>\n",
       "      <th colspan=\"2\" halign=\"left\">Brief Intervention</th>\n",
       "    </tr>\n",
       "    <tr>\n",
       "      <th></th>\n",
       "      <th>time to EVT</th>\n",
       "      <th>EVT</th>\n",
       "      <th>time to EVT</th>\n",
       "      <th>EVT</th>\n",
       "    </tr>\n",
       "  </thead>\n",
       "  <tbody>\n",
       "    <tr>\n",
       "      <th>0</th>\n",
       "      <td>19.0</td>\n",
       "      <td>1.0</td>\n",
       "      <td>16.0</td>\n",
       "      <td>1.0</td>\n",
       "    </tr>\n",
       "    <tr>\n",
       "      <th>1</th>\n",
       "      <td>6.0</td>\n",
       "      <td>1.0</td>\n",
       "      <td>21.0</td>\n",
       "      <td>1.0</td>\n",
       "    </tr>\n",
       "    <tr>\n",
       "      <th>2</th>\n",
       "      <td>5.0</td>\n",
       "      <td>1.0</td>\n",
       "      <td>7.0</td>\n",
       "      <td>1.0</td>\n",
       "    </tr>\n",
       "    <tr>\n",
       "      <th>3</th>\n",
       "      <td>4.0</td>\n",
       "      <td>1.0</td>\n",
       "      <td>21.0</td>\n",
       "      <td>0.0</td>\n",
       "    </tr>\n",
       "    <tr>\n",
       "      <th>4</th>\n",
       "      <td>20.0</td>\n",
       "      <td>0.0</td>\n",
       "      <td>15.0</td>\n",
       "      <td>0.0</td>\n",
       "    </tr>\n",
       "    <tr>\n",
       "      <th>5</th>\n",
       "      <td>19.0</td>\n",
       "      <td>0.0</td>\n",
       "      <td>18.0</td>\n",
       "      <td>0.0</td>\n",
       "    </tr>\n",
       "    <tr>\n",
       "      <th>6</th>\n",
       "      <td>17.0</td>\n",
       "      <td>0.0</td>\n",
       "      <td>18.0</td>\n",
       "      <td>0.0</td>\n",
       "    </tr>\n",
       "    <tr>\n",
       "      <th>7</th>\n",
       "      <td>14.0</td>\n",
       "      <td>0.0</td>\n",
       "      <td>5.0</td>\n",
       "      <td>0.0</td>\n",
       "    </tr>\n",
       "  </tbody>\n",
       "</table>\n",
       "</div>"
      ],
      "text/plain": [
       "  Standard Prenatal Care      Brief Intervention     \n",
       "             time to EVT  EVT        time to EVT  EVT\n",
       "0                   19.0  1.0               16.0  1.0\n",
       "1                    6.0  1.0               21.0  1.0\n",
       "2                    5.0  1.0                7.0  1.0\n",
       "3                    4.0  1.0               21.0  0.0\n",
       "4                   20.0  0.0               15.0  0.0\n",
       "5                   19.0  0.0               18.0  0.0\n",
       "6                   17.0  0.0               18.0  0.0\n",
       "7                   14.0  0.0                5.0  0.0"
      ]
     },
     "execution_count": 19,
     "metadata": {},
     "output_type": "execute_result"
    }
   ],
   "source": [
    "df3 = convert_to_survival(df3)\n",
    "df3"
   ]
  },
  {
   "cell_type": "code",
   "execution_count": 20,
   "metadata": {},
   "outputs": [
    {
     "data": {
      "image/png": "[encoded data removed]",
      "text/plain": [
       "<Figure size 432x288 with 1 Axes>"
      ]
     },
     "metadata": {
      "needs_background": "light"
     },
     "output_type": "display_data"
    }
   ],
   "source": [
    "ax, kmf3 = plot_2_kmf(df3)"
   ]
  },
  {
   "cell_type": "code",
   "execution_count": 21,
   "metadata": {},
   "outputs": [
    {
     "data": {
      "text/html": [
       "<div>\n",
       "<style scoped>\n",
       "    .dataframe tbody tr th:only-of-type {\n",
       "        vertical-align: middle;\n",
       "    }\n",
       "\n",
       "    .dataframe tbody tr th {\n",
       "        vertical-align: top;\n",
       "    }\n",
       "\n",
       "    .dataframe thead th {\n",
       "        text-align: right;\n",
       "    }\n",
       "</style>\n",
       "<table border=\"1\" class=\"dataframe\">\n",
       "  <tbody>\n",
       "    <tr>\n",
       "      <th>t_0</th>\n",
       "      <td>-1</td>\n",
       "    </tr>\n",
       "    <tr>\n",
       "      <th>null_distribution</th>\n",
       "      <td>chi squared</td>\n",
       "    </tr>\n",
       "    <tr>\n",
       "      <th>degrees_of_freedom</th>\n",
       "      <td>1</td>\n",
       "    </tr>\n",
       "    <tr>\n",
       "      <th>test_name</th>\n",
       "      <td>logrank_test</td>\n",
       "    </tr>\n",
       "  </tbody>\n",
       "</table>\n",
       "</div><table border=\"1\" class=\"dataframe\">\n",
       "  <thead>\n",
       "    <tr style=\"text-align: right;\">\n",
       "      <th></th>\n",
       "      <th>test_statistic</th>\n",
       "      <th>p</th>\n",
       "    </tr>\n",
       "  </thead>\n",
       "  <tbody>\n",
       "    <tr>\n",
       "      <th>0</th>\n",
       "      <td>0.84</td>\n",
       "      <td>0.36</td>\n",
       "    </tr>\n",
       "  </tbody>\n",
       "</table>"
      ],
      "text/plain": [
       "<IPython.core.display.HTML object>"
      ]
     },
     "metadata": {},
     "output_type": "display_data"
    }
   ],
   "source": [
    "logrank(df3)"
   ]
  },
  {
   "cell_type": "markdown",
   "metadata": {},
   "source": [
    "**Với pval=0.36, 2 survival function khác nhau không có significant.**"
   ]
  },
  {
   "cell_type": "markdown",
   "metadata": {},
   "source": [
    "<div class=\"alert alert-block alert-info\">\n",
    "    <b>Note:</b> <a href=\"https://lifelines.readthedocs.io/en/latest/lifelines.statistics.html\"> Trong đây </a>có nói log rank test có rất nhiều khuyết điểm, dùng cox regression tốt hơn nhiều.</br>\n",
    "    <b>Như:</b><ul>\n",
    "    <li>log-rank test does not work for continuous exposures</li>\n",
    "    <li>it does not allow for covariate adjustment</li>\n",
    "    <li>the usual P-value from log-rank may not be as accurate as the likelihood ratio χ2 statistic from Cox PH</li>\n",
    "    </ul>\n",
    "</div>"
   ]
  },
  {
   "cell_type": "markdown",
   "metadata": {},
   "source": [
    "# VI. Cox Proportional Hazards Regression: PP hiện đại, đa biến, có thể predict data mới\n",
    "\n",
    "Tương tự như Linear/Logistic Regression, Cox Regression cho nhập nhiều tham số để tính ra survival function.  \n",
    "Trong đó:\n",
    "- y: hazard rate\n",
    "- hazard rate: là một con số dương có thể lớn hơn 1, là số event ước tính trong một đơn vị thời gian\n",
    "    - Ví dụ: hazard rate =0.2/1 tháng, tức là 0.2 event có thể xảy ra trên mỗi người trong một tháng.\n",
    "    - Tức là mỗi người có 1/0.2 = 5 tháng event-free\n",
    "\n",
    "Chúng ta thường so sánh các nhóm với nhau bằng hazard ratio, tương tự như odds ratio trong logistic regression."
   ]
  },
  {
   "cell_type": "markdown",
   "metadata": {},
   "source": [
    "$$\\underbrace{h(t | x)}_{\\text{hazard}} = \\overbrace{b_0(t)}^{\\text{baseline hazard}} \\underbrace{\\exp \\overbrace{\\left(\\sum_{i=1}^n b_i (x_i - \\overline{x_i})\\right)}^{\\text{log-partial hazard}}}_ {\\text{partial hazard}}$$"
   ]
  },
  {
   "cell_type": "markdown",
   "metadata": {},
   "source": [
    "Nếu $X_i$ là biến continuous:\n",
    "- Hệ số $b_i$ tại $X_i$: khi tăng 1 đơn vị t thì  hazard rate tăng $exp(b_i)$  \n",
    "Nếu $X_i$ là biến nhị phân:\n",
    "- Hazard ratio  = $exp(b_i)$ \n",
    "- Hazard ratio ~ 1 thì $X_i$ không ảnh hưởng đến survival.  \n",
    "- Hazard ratio < 1 thì $X_i$ là một yếu tố tốt, làm giảm hazard rate\n",
    "- Ngược lại, Hazard ratio > 1 thì $X_i$ là một yếu tố xấu, làm tăng hazard rate"
   ]
  },
  {
   "cell_type": "markdown",
   "metadata": {},
   "source": [
    "Cox Regression không mặc định baseline hazard phân phối theo bất kỳ phân phối nào.  \n",
    "Những regression khác:\n",
    "- Exponential: hazard rate cố định\n",
    "- Weibull, Gompertz, and lognormal distributions: hazard rate tăng theo t, giảm theo t, tăng lên rồi giảm xuóng,.."
   ]
  },
  {
   "cell_type": "code",
   "execution_count": 31,
   "metadata": {},
   "outputs": [
    {
     "data": {
      "text/html": [
       "<div>\n",
       "<style scoped>\n",
       "    .dataframe tbody tr th:only-of-type {\n",
       "        vertical-align: middle;\n",
       "    }\n",
       "\n",
       "    .dataframe tbody tr th {\n",
       "        vertical-align: top;\n",
       "    }\n",
       "\n",
       "    .dataframe thead th {\n",
       "        text-align: right;\n",
       "    }\n",
       "</style>\n",
       "<table border=\"1\" class=\"dataframe\">\n",
       "  <thead>\n",
       "    <tr style=\"text-align: right;\">\n",
       "      <th></th>\n",
       "      <th>gender</th>\n",
       "      <th>tenure</th>\n",
       "      <th>TechSupport</th>\n",
       "      <th>StreamingTV</th>\n",
       "      <th>MonthlyCharges</th>\n",
       "      <th>Churn</th>\n",
       "    </tr>\n",
       "  </thead>\n",
       "  <tbody>\n",
       "    <tr>\n",
       "      <th>count</th>\n",
       "      <td>7043.000000</td>\n",
       "      <td>7043.000000</td>\n",
       "      <td>7043.000000</td>\n",
       "      <td>7043.000000</td>\n",
       "      <td>7043.000000</td>\n",
       "      <td>7043.000000</td>\n",
       "    </tr>\n",
       "    <tr>\n",
       "      <th>mean</th>\n",
       "      <td>0.504756</td>\n",
       "      <td>32.371149</td>\n",
       "      <td>0.290217</td>\n",
       "      <td>0.384353</td>\n",
       "      <td>64.761692</td>\n",
       "      <td>0.265370</td>\n",
       "    </tr>\n",
       "    <tr>\n",
       "      <th>std</th>\n",
       "      <td>0.500013</td>\n",
       "      <td>24.559481</td>\n",
       "      <td>0.453895</td>\n",
       "      <td>0.486477</td>\n",
       "      <td>30.090047</td>\n",
       "      <td>0.441561</td>\n",
       "    </tr>\n",
       "    <tr>\n",
       "      <th>min</th>\n",
       "      <td>0.000000</td>\n",
       "      <td>0.000000</td>\n",
       "      <td>0.000000</td>\n",
       "      <td>0.000000</td>\n",
       "      <td>18.250000</td>\n",
       "      <td>0.000000</td>\n",
       "    </tr>\n",
       "    <tr>\n",
       "      <th>25%</th>\n",
       "      <td>0.000000</td>\n",
       "      <td>9.000000</td>\n",
       "      <td>0.000000</td>\n",
       "      <td>0.000000</td>\n",
       "      <td>35.500000</td>\n",
       "      <td>0.000000</td>\n",
       "    </tr>\n",
       "    <tr>\n",
       "      <th>50%</th>\n",
       "      <td>1.000000</td>\n",
       "      <td>29.000000</td>\n",
       "      <td>0.000000</td>\n",
       "      <td>0.000000</td>\n",
       "      <td>70.350000</td>\n",
       "      <td>0.000000</td>\n",
       "    </tr>\n",
       "    <tr>\n",
       "      <th>75%</th>\n",
       "      <td>1.000000</td>\n",
       "      <td>55.000000</td>\n",
       "      <td>1.000000</td>\n",
       "      <td>1.000000</td>\n",
       "      <td>89.850000</td>\n",
       "      <td>1.000000</td>\n",
       "    </tr>\n",
       "    <tr>\n",
       "      <th>max</th>\n",
       "      <td>1.000000</td>\n",
       "      <td>72.000000</td>\n",
       "      <td>1.000000</td>\n",
       "      <td>1.000000</td>\n",
       "      <td>118.750000</td>\n",
       "      <td>1.000000</td>\n",
       "    </tr>\n",
       "  </tbody>\n",
       "</table>\n",
       "</div>"
      ],
      "text/plain": [
       "            gender       tenure  TechSupport  StreamingTV  MonthlyCharges  \\\n",
       "count  7043.000000  7043.000000  7043.000000  7043.000000     7043.000000   \n",
       "mean      0.504756    32.371149     0.290217     0.384353       64.761692   \n",
       "std       0.500013    24.559481     0.453895     0.486477       30.090047   \n",
       "min       0.000000     0.000000     0.000000     0.000000       18.250000   \n",
       "25%       0.000000     9.000000     0.000000     0.000000       35.500000   \n",
       "50%       1.000000    29.000000     0.000000     0.000000       70.350000   \n",
       "75%       1.000000    55.000000     1.000000     1.000000       89.850000   \n",
       "max       1.000000    72.000000     1.000000     1.000000      118.750000   \n",
       "\n",
       "             Churn  \n",
       "count  7043.000000  \n",
       "mean      0.265370  \n",
       "std       0.441561  \n",
       "min       0.000000  \n",
       "25%       0.000000  \n",
       "50%       0.000000  \n",
       "75%       1.000000  \n",
       "max       1.000000  "
      ]
     },
     "execution_count": 31,
     "metadata": {},
     "output_type": "execute_result"
    }
   ],
   "source": [
    "# data là  Telco-Customer-Churn data set, Kaggle\n",
    "# đo thời gian sử dụng dịch vụ cho tới lúc dừng dịch vụ\n",
    "# tenure la thoi gian su dung (months)\n",
    "# churn là dừng sử dụng\n",
    "\n",
    "df_c = pd.read_csv(\"WA_Fn-UseC_-Telco-Customer-Churn.csv\", usecols=[1, 5,12,13,18, 20])\n",
    "\n",
    "df_c.replace('Yes', 1, inplace=True)\n",
    "df_c.replace('No', 0, inplace=True)\n",
    "df_c.replace('No internet service', 0, inplace=True)\n",
    "df_c.replace('Male', 1, inplace=True)\n",
    "df_c.replace('Female', 0, inplace=True)\n",
    "\n",
    "#df_z['Churn'].co\n",
    "df_c.describe()"
   ]
  },
  {
   "cell_type": "code",
   "execution_count": 36,
   "metadata": {},
   "outputs": [
    {
     "name": "stdout",
     "output_type": "stream",
     "text": [
      "Iteration 1: norm_delta = 0.78892, step_size = 0.9500, log_lik = -15653.03964, newton_decrement = 330.60997, seconds_since_start = 0.0\n",
      "Iteration 2: norm_delta = 0.09030, step_size = 0.9500, log_lik = -15318.88850, newton_decrement = 6.14838, seconds_since_start = 0.0\n",
      "Iteration 3: norm_delta = 0.01067, step_size = 0.9500, log_lik = -15312.55268, newton_decrement = 0.07251, seconds_since_start = 0.1\n",
      "Iteration 4: norm_delta = 0.00008, step_size = 1.0000, log_lik = -15312.47980, newton_decrement = 0.00000, seconds_since_start = 0.1\n",
      "Iteration 5: norm_delta = 0.00000, step_size = 1.0000, log_lik = -15312.47980, newton_decrement = 0.00000, seconds_since_start = 0.1\n",
      "Convergence success after 5 iterations.\n"
     ]
    },
    {
     "data": {
      "text/plain": [
       "<lifelines.CoxPHFitter: fitted with 7043 total observations, 5174 right-censored observations>"
      ]
     },
     "execution_count": 36,
     "metadata": {},
     "output_type": "execute_result"
    }
   ],
   "source": [
    "cox = ll.CoxPHFitter()\n",
    "cox.fit(df_c,\n",
    "        duration_col='tenure',\n",
    "        event_col='Churn',\n",
    "        show_progress=True)"
   ]
  },
  {
   "cell_type": "code",
   "execution_count": 37,
   "metadata": {},
   "outputs": [
    {
     "data": {
      "text/html": [
       "<div>\n",
       "<style scoped>\n",
       "    .dataframe tbody tr th:only-of-type {\n",
       "        vertical-align: middle;\n",
       "    }\n",
       "\n",
       "    .dataframe tbody tr th {\n",
       "        vertical-align: top;\n",
       "    }\n",
       "\n",
       "    .dataframe thead th {\n",
       "        text-align: right;\n",
       "    }\n",
       "</style>\n",
       "<table border=\"1\" class=\"dataframe\">\n",
       "  <tbody>\n",
       "    <tr>\n",
       "      <th>model</th>\n",
       "      <td>lifelines.CoxPHFitter</td>\n",
       "    </tr>\n",
       "    <tr>\n",
       "      <th>duration col</th>\n",
       "      <td>'tenure'</td>\n",
       "    </tr>\n",
       "    <tr>\n",
       "      <th>event col</th>\n",
       "      <td>'Churn'</td>\n",
       "    </tr>\n",
       "    <tr>\n",
       "      <th>baseline estimation</th>\n",
       "      <td>breslow</td>\n",
       "    </tr>\n",
       "    <tr>\n",
       "      <th>number of observations</th>\n",
       "      <td>7043</td>\n",
       "    </tr>\n",
       "    <tr>\n",
       "      <th>number of events observed</th>\n",
       "      <td>1869</td>\n",
       "    </tr>\n",
       "    <tr>\n",
       "      <th>partial log-likelihood</th>\n",
       "      <td>-15312.48</td>\n",
       "    </tr>\n",
       "    <tr>\n",
       "      <th>time fit was run</th>\n",
       "      <td>2020-03-22 06:52:35 UTC</td>\n",
       "    </tr>\n",
       "  </tbody>\n",
       "</table>\n",
       "</div><table border=\"1\" class=\"dataframe\">\n",
       "  <thead>\n",
       "    <tr style=\"text-align: right;\">\n",
       "      <th></th>\n",
       "      <th>coef</th>\n",
       "      <th>exp(coef)</th>\n",
       "      <th>se(coef)</th>\n",
       "      <th>coef lower 95%</th>\n",
       "      <th>coef upper 95%</th>\n",
       "      <th>exp(coef) lower 95%</th>\n",
       "      <th>exp(coef) upper 95%</th>\n",
       "      <th>z</th>\n",
       "      <th>p</th>\n",
       "      <th>-log2(p)</th>\n",
       "    </tr>\n",
       "  </thead>\n",
       "  <tbody>\n",
       "    <tr>\n",
       "      <th>gender</th>\n",
       "      <td>-0.05</td>\n",
       "      <td>0.95</td>\n",
       "      <td>0.05</td>\n",
       "      <td>-0.14</td>\n",
       "      <td>0.04</td>\n",
       "      <td>0.87</td>\n",
       "      <td>1.04</td>\n",
       "      <td>-1.01</td>\n",
       "      <td>0.31</td>\n",
       "      <td>1.68</td>\n",
       "    </tr>\n",
       "    <tr>\n",
       "      <th>TechSupport</th>\n",
       "      <td>-1.33</td>\n",
       "      <td>0.26</td>\n",
       "      <td>0.06</td>\n",
       "      <td>-1.46</td>\n",
       "      <td>-1.20</td>\n",
       "      <td>0.23</td>\n",
       "      <td>0.30</td>\n",
       "      <td>-20.66</td>\n",
       "      <td>&lt;0.005</td>\n",
       "      <td>312.60</td>\n",
       "    </tr>\n",
       "    <tr>\n",
       "      <th>StreamingTV</th>\n",
       "      <td>-0.47</td>\n",
       "      <td>0.62</td>\n",
       "      <td>0.06</td>\n",
       "      <td>-0.59</td>\n",
       "      <td>-0.36</td>\n",
       "      <td>0.55</td>\n",
       "      <td>0.70</td>\n",
       "      <td>-8.00</td>\n",
       "      <td>&lt;0.005</td>\n",
       "      <td>49.51</td>\n",
       "    </tr>\n",
       "    <tr>\n",
       "      <th>MonthlyCharges</th>\n",
       "      <td>0.02</td>\n",
       "      <td>1.02</td>\n",
       "      <td>0.00</td>\n",
       "      <td>0.01</td>\n",
       "      <td>0.02</td>\n",
       "      <td>1.01</td>\n",
       "      <td>1.02</td>\n",
       "      <td>16.30</td>\n",
       "      <td>&lt;0.005</td>\n",
       "      <td>196.07</td>\n",
       "    </tr>\n",
       "  </tbody>\n",
       "</table><div>\n",
       "<style scoped>\n",
       "    .dataframe tbody tr th:only-of-type {\n",
       "        vertical-align: middle;\n",
       "    }\n",
       "\n",
       "    .dataframe tbody tr th {\n",
       "        vertical-align: top;\n",
       "    }\n",
       "\n",
       "    .dataframe thead th {\n",
       "        text-align: right;\n",
       "    }\n",
       "</style>\n",
       "<table border=\"1\" class=\"dataframe\">\n",
       "  <tbody>\n",
       "    <tr>\n",
       "      <th>Log-likelihood ratio test</th>\n",
       "      <td>681.12 on 4 df, -log2(p)=482.91</td>\n",
       "    </tr>\n",
       "  </tbody>\n",
       "</table>\n",
       "</div>"
      ],
      "text/plain": [
       "<IPython.core.display.HTML object>"
      ]
     },
     "metadata": {},
     "output_type": "display_data"
    }
   ],
   "source": [
    "cox.print_summary()"
   ]
  },
  {
   "cell_type": "code",
   "execution_count": 39,
   "metadata": {},
   "outputs": [
    {
     "data": {
      "text/plain": [
       "<matplotlib.axes._subplots.AxesSubplot at 0x11eedfb10>"
      ]
     },
     "execution_count": 39,
     "metadata": {},
     "output_type": "execute_result"
    },
    {
     "data": {
      "image/png": "[encoded data removed]",
      "text/plain": [
       "<Figure size 432x288 with 1 Axes>"
      ]
     },
     "metadata": {
      "needs_background": "light"
     },
     "output_type": "display_data"
    }
   ],
   "source": [
    "cox.plot()"
   ]
  },
  {
   "cell_type": "markdown",
   "metadata": {},
   "source": [
    "**Hai yếu tố quan trọng là StreamingTV và Techsupport, hệ số âm tức là stream nhiều với cần support nhiều là hazard rate nhỏ.**  \n",
    "**Gender thì pval=0.31, không có significant.**  \n",
    "**MonthlyCharges: hệ số quá nhỏ mặc dù significant, có thể có vì nó quá dao động và biên độ lớn.**"
   ]
  },
  {
   "cell_type": "code",
   "execution_count": 38,
   "metadata": {},
   "outputs": [
    {
     "data": {
      "text/html": [
       "<div>\n",
       "<style scoped>\n",
       "    .dataframe tbody tr th:only-of-type {\n",
       "        vertical-align: middle;\n",
       "    }\n",
       "\n",
       "    .dataframe tbody tr th {\n",
       "        vertical-align: top;\n",
       "    }\n",
       "\n",
       "    .dataframe thead th {\n",
       "        text-align: right;\n",
       "    }\n",
       "</style>\n",
       "<table border=\"1\" class=\"dataframe\">\n",
       "  <thead>\n",
       "    <tr style=\"text-align: right;\">\n",
       "      <th></th>\n",
       "      <th>baseline hazard</th>\n",
       "    </tr>\n",
       "  </thead>\n",
       "  <tbody>\n",
       "    <tr>\n",
       "      <th>0.0</th>\n",
       "      <td>0.000000</td>\n",
       "    </tr>\n",
       "    <tr>\n",
       "      <th>1.0</th>\n",
       "      <td>0.045050</td>\n",
       "    </tr>\n",
       "    <tr>\n",
       "      <th>2.0</th>\n",
       "      <td>0.016152</td>\n",
       "    </tr>\n",
       "    <tr>\n",
       "      <th>3.0</th>\n",
       "      <td>0.012918</td>\n",
       "    </tr>\n",
       "    <tr>\n",
       "      <th>4.0</th>\n",
       "      <td>0.011826</td>\n",
       "    </tr>\n",
       "  </tbody>\n",
       "</table>\n",
       "</div>"
      ],
      "text/plain": [
       "     baseline hazard\n",
       "0.0         0.000000\n",
       "1.0         0.045050\n",
       "2.0         0.016152\n",
       "3.0         0.012918\n",
       "4.0         0.011826"
      ]
     },
     "execution_count": 38,
     "metadata": {},
     "output_type": "execute_result"
    }
   ],
   "source": [
    "cox.baseline_hazard_.head()"
   ]
  },
  {
   "cell_type": "code",
   "execution_count": 87,
   "metadata": {},
   "outputs": [
    {
     "data": {
      "text/html": [
       "<div>\n",
       "<style scoped>\n",
       "    .dataframe tbody tr th:only-of-type {\n",
       "        vertical-align: middle;\n",
       "    }\n",
       "\n",
       "    .dataframe tbody tr th {\n",
       "        vertical-align: top;\n",
       "    }\n",
       "\n",
       "    .dataframe thead th {\n",
       "        text-align: right;\n",
       "    }\n",
       "</style>\n",
       "<table border=\"1\" class=\"dataframe\">\n",
       "  <thead>\n",
       "    <tr style=\"text-align: right;\">\n",
       "      <th></th>\n",
       "      <th>0</th>\n",
       "      <th>1</th>\n",
       "    </tr>\n",
       "  </thead>\n",
       "  <tbody>\n",
       "    <tr>\n",
       "      <th>0.0</th>\n",
       "      <td>1.000000</td>\n",
       "      <td>1.000000</td>\n",
       "    </tr>\n",
       "    <tr>\n",
       "      <th>1.0</th>\n",
       "      <td>0.990026</td>\n",
       "      <td>0.961928</td>\n",
       "    </tr>\n",
       "    <tr>\n",
       "      <th>2.0</th>\n",
       "      <td>0.986475</td>\n",
       "      <td>0.948634</td>\n",
       "    </tr>\n",
       "    <tr>\n",
       "      <th>3.0</th>\n",
       "      <td>0.983643</td>\n",
       "      <td>0.938134</td>\n",
       "    </tr>\n",
       "    <tr>\n",
       "      <th>4.0</th>\n",
       "      <td>0.981058</td>\n",
       "      <td>0.928623</td>\n",
       "    </tr>\n",
       "    <tr>\n",
       "      <th>...</th>\n",
       "      <td>...</td>\n",
       "      <td>...</td>\n",
       "    </tr>\n",
       "    <tr>\n",
       "      <th>68.0</th>\n",
       "      <td>0.909679</td>\n",
       "      <td>0.693106</td>\n",
       "    </tr>\n",
       "    <tr>\n",
       "      <th>69.0</th>\n",
       "      <td>0.907242</td>\n",
       "      <td>0.685941</td>\n",
       "    </tr>\n",
       "    <tr>\n",
       "      <th>70.0</th>\n",
       "      <td>0.903394</td>\n",
       "      <td>0.674745</td>\n",
       "    </tr>\n",
       "    <tr>\n",
       "      <th>71.0</th>\n",
       "      <td>0.900875</td>\n",
       "      <td>0.667488</td>\n",
       "    </tr>\n",
       "    <tr>\n",
       "      <th>72.0</th>\n",
       "      <td>0.897123</td>\n",
       "      <td>0.656787</td>\n",
       "    </tr>\n",
       "  </tbody>\n",
       "</table>\n",
       "<p>73 rows × 2 columns</p>\n",
       "</div>"
      ],
      "text/plain": [
       "             0         1\n",
       "0.0   1.000000  1.000000\n",
       "1.0   0.990026  0.961928\n",
       "2.0   0.986475  0.948634\n",
       "3.0   0.983643  0.938134\n",
       "4.0   0.981058  0.928623\n",
       "...        ...       ...\n",
       "68.0  0.909679  0.693106\n",
       "69.0  0.907242  0.685941\n",
       "70.0  0.903394  0.674745\n",
       "71.0  0.900875  0.667488\n",
       "72.0  0.897123  0.656787\n",
       "\n",
       "[73 rows x 2 columns]"
      ]
     },
     "execution_count": 87,
     "metadata": {},
     "output_type": "execute_result"
    }
   ],
   "source": [
    "# survival function ở \n",
    "# a. nam, có techsupport và streamtv, tháng 50$\n",
    "# b. nữ, không techsupport và không stream, tháng 20$\n",
    "data = np.array([[1,1,1,50], [0,0,0,20]])\n",
    "cox.predict_survival_function(data)"
   ]
  },
  {
   "cell_type": "code",
   "execution_count": 88,
   "metadata": {},
   "outputs": [
    {
     "data": {
      "text/plain": [
       "<matplotlib.axes._subplots.AxesSubplot at 0x12bb2ee50>"
      ]
     },
     "execution_count": 88,
     "metadata": {},
     "output_type": "execute_result"
    },
    {
     "data": {
      "image/png": "[encoded data removed]",
      "text/plain": [
       "<Figure size 432x288 with 1 Axes>"
      ]
     },
     "metadata": {
      "needs_background": "light"
     },
     "output_type": "display_data"
    }
   ],
   "source": [
    "cox.predict_survival_function(data).plot()"
   ]
  },
  {
   "cell_type": "code",
   "execution_count": 89,
   "metadata": {},
   "outputs": [
    {
     "data": {
      "image/png": "[encoded data removed]",
      "text/plain": [
       "<Figure size 720x576 with 1 Axes>"
      ]
     },
     "metadata": {
      "needs_background": "light"
     },
     "output_type": "display_data"
    }
   ],
   "source": [
    "plt.figure(figsize=(10,8))\n",
    "ax = plt.subplot(111)\n",
    "cox.plot_covariate_groups(['gender','TechSupport', 'StreamingTV','MonthlyCharges'],\n",
    "                         values=data,\n",
    "                         ax=ax)\n",
    "ax.set_ylabel('Survival rate = continue to use service')\n",
    "ax.set_title('So sánh tỉ lệ tiếp tục sử dụng dịch vụ của 2 khách hàng');"
   ]
  },
  {
   "cell_type": "code",
   "execution_count": 90,
   "metadata": {},
   "outputs": [
    {
     "data": {
      "image/png": "[encoded data removed]",
      "text/plain": [
       "<Figure size 720x576 with 1 Axes>"
      ]
     },
     "metadata": {
      "needs_background": "light"
     },
     "output_type": "display_data"
    }
   ],
   "source": [
    "# survival function ở \n",
    "# a. nam, k techsupport và co streamtv, tháng 80$\n",
    "# b. nữ, co techsupport và không stream, tháng 60$\n",
    "data2 = np.array([[1,0,1,80], [0,1,0,40]])\n",
    "plt.figure(figsize=(10,8))\n",
    "ax = plt.subplot(111)\n",
    "cox.plot_covariate_groups(['gender','TechSupport', 'StreamingTV','MonthlyCharges'],\n",
    "                         values=data2,\n",
    "                         ax=ax)\n",
    "ax.set_ylabel('Survival rate = continue to use service')\n",
    "ax.set_title('Techsupport có tỉ trọng rất lớn');"
   ]
  },
  {
   "cell_type": "markdown",
   "metadata": {},
   "source": [
    "# VII. Mở rộng:\n",
    "- Chúng ta có thể đặt hệ số $b_i$ thay đổi theo thời gian. Khi ấy, tính toán sẽ phức tạp hơn nhiều. (CoxTimeVaryingFitter)\n",
    "- Một trong những mặc định của cox regression là effect của risk factor không thay đổi, tức là hazard đồng dạng theo thời gian.\n",
    "- So sánh các risk factors trong từng outcome với nhau, khi có nhiều outcome mà chúng có correlation."
   ]
  },
  {
   "cell_type": "code",
   "execution_count": null,
   "metadata": {},
   "outputs": [],
   "source": []
  }
 ],
 "metadata": {
  "kernelspec": {
   "display_name": "Python 3",
   "language": "python",
   "name": "python3"
  },
  "language_info": {
   "codemirror_mode": {
    "name": "ipython",
    "version": 3
   },
   "file_extension": ".py",
   "mimetype": "text/x-python",
   "name": "python",
   "nbconvert_exporter": "python",
   "pygments_lexer": "ipython3",
   "version": "3.7.6"
  }
 },
 "nbformat": 4,
 "nbformat_minor": 4
}
