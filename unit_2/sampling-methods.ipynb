{
 "cells": [
  {
   "cell_type": "markdown",
   "metadata": {},
   "source": [
    "# <center>SAMPLE SELECTION IN RESEARCH</center>\n",
    "<center>BS Lưu Lâm Thắng Tài </center>\n"
   ]
  },
  {
   "cell_type": "markdown",
   "metadata": {},
   "source": [
    "# 1. Một số khái niệm\n",
    "1. Target population\n",
    "2. Study population (Accessible population)\n",
    "3. Sampling frame\n",
    "4. Sample\n",
    "\n",
    "<img src=\"https://image.slidesharecdn.com/samplingtechnique-150727180828-lva1-app6892/95/sampling-techniques-11-638.jpg?cb=1438020689\"></img>"
   ]
  },
  {
   "cell_type": "markdown",
   "metadata": {},
   "source": [
    "# 2. Câu chuyện\n",
    "\n",
    "## Một nghiên cứu về các đặc điểm liên quan đến sự tuân thủ điều trị đái tháo đường.\n",
    "- *Target population:* tất cả bn ĐTĐ.\n",
    "- *Study population:* bn tại BV X.\n",
    "- *Sampling frame:* bn ngoại trú tại BV X trong khoảng thời gian nhất định.\n",
    "- *Sampling method:* simple random sampling ( ngẫu nhiên đơn)\n",
    "- *Sample size:* 384 bn (dựa trên công thức)\n",
    "- *Data collecting method:* questionaire\n",
    "- *Các biến độc lập:* dựa trên **MMAS-8**"
   ]
  },
  {
   "cell_type": "markdown",
   "metadata": {},
   "source": [
    "<table>\n",
    "        <thead>\n",
    "            <tr>\n",
    "                <th rowspan=\"2\">Đặc điểm khảo sát thông tin chung của bệnh nhân</th>\n",
    "                <th colspan=\"3\">Mức độ tuân thủ điều trị theo MMAS-8</th>\n",
    "                <th rowspan=\"2\">p-value</th>\n",
    "            </tr>\n",
    "            <tr>\n",
    "                <th>Thấp N=51</th>\n",
    "                <th>Trung bình N=115</th>\n",
    "                <th>Cao N=124</th>\n",
    "            </tr>\n",
    "        </thead>\n",
    "        <tbody>\n",
    "            <tr>\n",
    "                <th align='left'>Giới tính</th>\n",
    "                <td></td>\n",
    "                <td></td>\n",
    "                <td></td>\n",
    "                <td>0.242</td>\n",
    "            </tr>\n",
    "            <tr>\n",
    "                <td>Nam</td>\n",
    "                <td>23(45.1)</td>\n",
    "                <td>45(39.1)</td>\n",
    "                <td>23(45.1)</td>\n",
    "            </tr>\n",
    "            <tr>\n",
    "                <td>Nữ</td>\n",
    "                <td>28(54.9)</td>\n",
    "                <td>70(60.9)</td>\n",
    "                <td>28(54.9)</td>\n",
    "            </tr>\n",
    "            <tr>\n",
    "                <th align='left'>Tuổi</th>\n",
    "                <td></td>\n",
    "                <td></td>\n",
    "                <td></td>\n",
    "                <td><b>0.049</b></td>\n",
    "            </tr>\n",
    "            <tr>\n",
    "                <td>Giá trị</td>\n",
    "                <td>59.1$\\pm$9.1</td>\n",
    "                <td>62.9$\\pm$10.3</td>\n",
    "                <td>63$\\pm$10.7</td>\n",
    "            </tr>\n",
    "        </tbody>\n",
    "    </table>"
   ]
  },
  {
   "cell_type": "markdown",
   "metadata": {},
   "source": [
    "Kết quả khi thu về, nhóm tác giả thấy *độ tuổi* có ý nghĩa thống kê đến mức độ tuân thủ điều trị. Cụ thể, những bệnh nhân có độ tuổi càng cao thì càng tuân thủ điều trị hơn → Là kết quả có thể biện luận được!"
   ]
  },
  {
   "cell_type": "markdown",
   "metadata": {},
   "source": [
    "<table>\n",
    "        <thead>\n",
    "            <tr>\n",
    "                <th rowspan=\"2\">Tác dụng phụ của thuốc</th>\n",
    "                <th colspan=\"3\">Mức độ tuân thủ điều trị theo MMAS-8</th>\n",
    "                <th rowspan=\"2\">p-value</th>\n",
    "            </tr>\n",
    "            <tr>\n",
    "                <th>Thấp N=51</th>\n",
    "                <th>Trung bình N=115</th>\n",
    "                <th>Cao N=124</th>\n",
    "            </tr>\n",
    "        </thead>\n",
    "        <tbody>\n",
    "            <tr>\n",
    "                <th align='left'>Tăng cân</th>\n",
    "                <td></td>\n",
    "                <td></td>\n",
    "                <td></td>\n",
    "                <td>0.101</td>\n",
    "            </tr>\n",
    "            <tr>\n",
    "                <td>Có</td>\n",
    "                <td>3(5.9)</td>\n",
    "                <td>4(3.5)</td>\n",
    "                <td>1(0.8)</td>\n",
    "            </tr>\n",
    "            <tr>\n",
    "                <td>Không</td>\n",
    "                <td>48(94.1)</td>\n",
    "                <td>111(86.5)</td>\n",
    "                <td>123(99.2)</td>\n",
    "            </tr>\n",
    "            <tr>\n",
    "                <th align='left'>Phù, phát ban</th>\n",
    "                <td></td>\n",
    "                <td></td>\n",
    "                <td></td>\n",
    "                <td><b>0.018</b></td>\n",
    "            </tr>\n",
    "            <tr>\n",
    "                <td>Có</td>\n",
    "                <td>2(3.9)</td>\n",
    "                <td>23(20.0)</td>\n",
    "                <td>19(15.3)</td>\n",
    "            </tr>\n",
    "            <tr>\n",
    "                <td>Không</td>\n",
    "                <td>49(96.1)</td>\n",
    "                <td>92(80.0)</td>\n",
    "                <td>105(84.7)</td>\n",
    "            </tr>\n",
    "        </tbody>\n",
    "    </table>"
   ]
  },
  {
   "cell_type": "markdown",
   "metadata": {},
   "source": [
    "Tuy nhiên khi xét đến tác dụng phụ của thuốc, nhóm tác giả ghi nhận một kết quả “lạ” rất khó giải thích !!!!  \n",
    "\n",
    "**Vấn đề nằm ở đâu ?**"
   ]
  },
  {
   "cell_type": "markdown",
   "metadata": {},
   "source": [
    "## Giả sử bạn là trợ lý của Bộ trưởng Bộ Nông nghiệp của Nga.\n",
    "Sếp bạn thấy Nga hiện tại rất phát triển ngành chăn nuôi heo với cung vượt qua cầu, nên muốn xuất khẩu thịt heo sang các nước khác (cụ thể là các nước châu Á).  \n",
    "Sếp chọn Indonesia làm nơi thử nghiệm thị trường đầu tiên vì:\n",
    "1. Đó là nước có tỉ lệ mậu dịch khá cao với Nga và có quan hệ quốc tế như một đối tác chiến lược về kinh tế,\n",
    "2. Ngành chăn nuôi heo không phát triển ở Indonesia. \n",
    "\n",
    "Sếp giao cho bạn … mấy trăm tấn thịt heo và yêu cầu bạn lập khảo sát thị hiếu của người dân Indonesia và lập chiến lược kinh doanh. Nhiệm vụ của bạn là sau 3 năm bằng mọi cách phải đảm bảo xuất khẩu thịt heo 800 tấn/năm.  \n",
    "**Bạn sẽ làm gì ???**\n"
   ]
  },
  {
   "cell_type": "markdown",
   "metadata": {},
   "source": [
    "---\n",
    "1. Quan hệ giữa *target population* và *research question* phải hợp lý về mặt logic. Tương tự là mối quan hệ giữa *study population* và *research question*.\n",
    "2. Khi chọn đối tượng khảo sát, nên đặt câu hỏi giữa 2 nhóm *“accessible population”* và *“non-accessible population”*, liệu có sự khác biệt đáng kể hay không.\n",
    "3. Nếu có thể, luôn có gắng để *study population* gần giống với *target population* nhiều nhất có thể.!"
   ]
  },
  {
   "cell_type": "markdown",
   "metadata": {},
   "source": [
    "# 3. Ý nghĩa của sampling\n",
    "\n",
    "## Quay lại câu chuyện tuân thủ điều trị ĐTĐ\n",
    "Để làm được random sampling, trên lý thuyết nhóm tác giả phải có trước đó danh sách bệnh nhân sẽ đến khám vào các ngày khảo sát cùng với danh sách bệnh nhân nội trú.  \n",
    "→ BẤT KHẢ THI  \n",
    "Nhóm tác giả nảy ra ý tưởng rằng sẽ … khảo sát hết nhóm bệnh nhân ngoại trú, sau đó sẽ chọn random trong số những bảng hỏi đã được khảo sát để đưa vào phân tích dữ liệu.  \n",
    "→ CẦN THIẾT ???"
   ]
  },
  {
   "cell_type": "markdown",
   "metadata": {},
   "source": [
    "## Một nghiên cứu muốn so sánh mức độ chính xác giữa chụp cắt lớp vi tính và nội soi phế quản trong việc chẩn đoán hẹp khí phế quản. \n",
    "1. Mẫu khảo sát là các bệnh nhi tại khoa hô hấp tại BV NĐTP có tiền căn khò khè kéo dài.  \n",
    "Nghiên cứu này có nên áp dụng sampling hay không, tại sao ?\n",
    "2. Cũng cùng là nghiên cứu muốn so sánh mức độ chính xác giữa chụp cắt lớp vi tính và nội soi phế quản trong việc chẩn đoán hẹp khí phế quản.  \n",
    "Mẫu khảo sát là các bệnh nhi tại khoa hô hấp tại tất cả các BV Nhi có ghi nhận tiền căn khò khè kéo dài.  \n",
    "Nghiên cứu này có nên áp dụng sampling hay không, tại sao ?\n"
   ]
  },
  {
   "cell_type": "markdown",
   "metadata": {},
   "source": [
    "Khi vì những lý do khách quan mà việc lấy trọn mẫu khảo sát là không khả thi (do vấn đề về thời gian, nhân lực, kinh phí), người ta quy ước một cách thức chọn ra một mẫu đại diện trong số những đối tượng có thể tiếp cận được.\n",
    "\n",
    "Tính đại diện của sample với accessible population:\n",
    "**<center>All included > Random sampling > Non random sampling</center>**\n",
    "\n",
    "Tính đại diện của sample với target population ?\n",
    "\n",
    "Những nghiên cứu liên quan tới gen thì sao ?\n"
   ]
  },
  {
   "cell_type": "markdown",
   "metadata": {},
   "source": [
    "# Các phương pháp sampling"
   ]
  },
  {
   "cell_type": "code",
   "execution_count": null,
   "metadata": {},
   "outputs": [],
   "source": []
  }
 ],
 "metadata": {
  "kernelspec": {
   "display_name": "Python 3",
   "language": "python",
   "name": "python3"
  },
  "language_info": {
   "codemirror_mode": {
    "name": "ipython",
    "version": 3
   },
   "file_extension": ".py",
   "mimetype": "text/x-python",
   "name": "python",
   "nbconvert_exporter": "python",
   "pygments_lexer": "ipython3",
   "version": "3.7.6"
  }
 },
 "nbformat": 4,
 "nbformat_minor": 4
}
