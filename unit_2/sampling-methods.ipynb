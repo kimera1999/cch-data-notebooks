{
 "cells": [
  {
   "cell_type": "markdown",
   "metadata": {},
   "source": [
    "# <center>SAMPLE SELECTION IN RESEARCH</center>\n",
    "<center>BS Lưu Lâm Thắng Tài </center>\n"
   ]
  },
  {
   "cell_type": "markdown",
   "metadata": {},
   "source": [
    "# 1. Một số khái niệm\n",
    "1. Target population\n",
    "2. Study population (Accessible population)\n",
    "3. Sampling frame\n",
    "4. Sample\n",
    "\n",
    "<img src=\"https://image.slidesharecdn.com/samplingtechnique-150727180828-lva1-app6892/95/sampling-techniques-11-638.jpg?cb=1438020689\"></img>"
   ]
  },
  {
   "cell_type": "markdown",
   "metadata": {},
   "source": [
    "# 2. Câu chuyện\n",
    "\n",
    "## Một nghiên cứu về các đặc điểm liên quan đến sự tuân thủ điều trị đái tháo đường.\n",
    "- *Target population:* tất cả bn ĐTĐ.\n",
    "- *Study population:* bn tại BV X.\n",
    "- *Sampling frame:* bn ngoại trú tại BV X trong khoảng thời gian nhất định.\n",
    "- *Sampling method:* simple random sampling ( ngẫu nhiên đơn)\n",
    "- *Sample size:* 384 bn (dựa trên công thức)\n",
    "- *Data collecting method:* questionaire\n",
    "- *Các biến độc lập:* dựa trên **MMAS-8**"
   ]
  },
  {
   "cell_type": "markdown",
   "metadata": {},
   "source": [
    "<table>\n",
    "        <thead>\n",
    "            <tr>\n",
    "                <th rowspan=\"2\">Đặc điểm khảo sát thông tin chung của bệnh nhân</th>\n",
    "                <th colspan=\"3\">Mức độ tuân thủ điều trị theo MMAS-8</th>\n",
    "                <th rowspan=\"2\">p-value</th>\n",
    "            </tr>\n",
    "            <tr>\n",
    "                <th>Thấp N=51</th>\n",
    "                <th>Trung bình N=115</th>\n",
    "                <th>Cao N=124</th>\n",
    "            </tr>\n",
    "        </thead>\n",
    "        <tbody>\n",
    "            <tr>\n",
    "                <th align='left'>Giới tính</th>\n",
    "                <td></td>\n",
    "                <td></td>\n",
    "                <td></td>\n",
    "                <td>0.242</td>\n",
    "            </tr>\n",
    "            <tr>\n",
    "                <td>Nam</td>\n",
    "                <td>23(45.1)</td>\n",
    "                <td>45(39.1)</td>\n",
    "                <td>23(45.1)</td>\n",
    "            </tr>\n",
    "            <tr>\n",
    "                <td>Nữ</td>\n",
    "                <td>28(54.9)</td>\n",
    "                <td>70(60.9)</td>\n",
    "                <td>28(54.9)</td>\n",
    "            </tr>\n",
    "            <tr>\n",
    "                <th align='left'>Tuổi</th>\n",
    "                <td></td>\n",
    "                <td></td>\n",
    "                <td></td>\n",
    "                <td><b>0.049</b></td>\n",
    "            </tr>\n",
    "            <tr>\n",
    "                <td>Giá trị</td>\n",
    "                <td>59.1$\\pm$9.1</td>\n",
    "                <td>62.9$\\pm$10.3</td>\n",
    "                <td>63$\\pm$10.7</td>\n",
    "            </tr>\n",
    "        </tbody>\n",
    "    </table>"
   ]
  },
  {
   "cell_type": "markdown",
   "metadata": {},
   "source": [
    "Kết quả khi thu về, nhóm tác giả thấy *độ tuổi* có ý nghĩa thống kê đến mức độ tuân thủ điều trị. Cụ thể, những bệnh nhân có độ tuổi càng cao thì càng tuân thủ điều trị hơn → Là kết quả có thể biện luận được!"
   ]
  },
  {
   "cell_type": "markdown",
   "metadata": {},
   "source": [
    "<table>\n",
    "        <thead>\n",
    "            <tr>\n",
    "                <th rowspan=\"2\">Tác dụng phụ của thuốc</th>\n",
    "                <th colspan=\"3\">Mức độ tuân thủ điều trị theo MMAS-8</th>\n",
    "                <th rowspan=\"2\">p-value</th>\n",
    "            </tr>\n",
    "            <tr>\n",
    "                <th>Thấp N=51</th>\n",
    "                <th>Trung bình N=115</th>\n",
    "                <th>Cao N=124</th>\n",
    "            </tr>\n",
    "        </thead>\n",
    "        <tbody>\n",
    "            <tr>\n",
    "                <th align='left'>Tăng cân</th>\n",
    "                <td></td>\n",
    "                <td></td>\n",
    "                <td></td>\n",
    "                <td>0.101</td>\n",
    "            </tr>\n",
    "            <tr>\n",
    "                <td>Có</td>\n",
    "                <td>3(5.9)</td>\n",
    "                <td>4(3.5)</td>\n",
    "                <td>1(0.8)</td>\n",
    "            </tr>\n",
    "            <tr>\n",
    "                <td>Không</td>\n",
    "                <td>48(94.1)</td>\n",
    "                <td>111(86.5)</td>\n",
    "                <td>123(99.2)</td>\n",
    "            </tr>\n",
    "            <tr>\n",
    "                <th align='left'>Phù, phát ban</th>\n",
    "                <td></td>\n",
    "                <td></td>\n",
    "                <td></td>\n",
    "                <td><b>0.018</b></td>\n",
    "            </tr>\n",
    "            <tr>\n",
    "                <td>Có</td>\n",
    "                <td>2(3.9)</td>\n",
    "                <td>23(20.0)</td>\n",
    "                <td>19(15.3)</td>\n",
    "            </tr>\n",
    "            <tr>\n",
    "                <td>Không</td>\n",
    "                <td>49(96.1)</td>\n",
    "                <td>92(80.0)</td>\n",
    "                <td>105(84.7)</td>\n",
    "            </tr>\n",
    "        </tbody>\n",
    "    </table>"
   ]
  },
  {
   "cell_type": "markdown",
   "metadata": {},
   "source": [
    "Tuy nhiên khi xét đến tác dụng phụ của thuốc, nhóm tác giả ghi nhận một kết quả “lạ” rất khó giải thích !!!!  \n",
    "\n",
    "**Vấn đề nằm ở đâu ?**"
   ]
  },
  {
   "cell_type": "code",
   "execution_count": null,
   "metadata": {},
   "outputs": [],
   "source": []
  }
 ],
 "metadata": {
  "kernelspec": {
   "display_name": "Python 3",
   "language": "python",
   "name": "python3"
  },
  "language_info": {
   "codemirror_mode": {
    "name": "ipython",
    "version": 3
   },
   "file_extension": ".py",
   "mimetype": "text/x-python",
   "name": "python",
   "nbconvert_exporter": "python",
   "pygments_lexer": "ipython3",
   "version": "3.7.6"
  }
 },
 "nbformat": 4,
 "nbformat_minor": 4
}
