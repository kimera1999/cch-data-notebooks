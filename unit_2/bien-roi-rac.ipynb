{
 "cells": [
  {
   "cell_type": "markdown",
   "metadata": {},
   "source": [
    "# <center>BIẾN RỜI RẠC</center>"
   ]
  },
  {
   "cell_type": "markdown",
   "metadata": {},
   "source": [
    "Discrete Variable có thể chia thành 3 nhóm:\n",
    "1. *Dichotomous: nhị phân*  \n",
    "    như có hút thuốc lá hay không hút thuốc lá. Giá trị đại diện là 1 (có), 0 (không).\n",
    "2. *Ordinal: xếp hạng*  \n",
    "    như huyết áp bình thường, tiền THA, THA độ I, THA độ II\n",
    "3. *Categorical: phân nhóm*  \n",
    "    như tình trạng hôn nhân: độc thân, kết hôn, li dị,.."
   ]
  },
  {
   "cell_type": "markdown",
   "metadata": {},
   "source": [
    "## Biến nhị phân\n",
    "Biểu diễn bằng tỉ lệ (proportion).  \n",
    "Giả sử ta có dãy dữ liệu sau:"
   ]
  },
  {
   "cell_type": "code",
   "execution_count": 19,
   "metadata": {},
   "outputs": [
    {
     "data": {
      "text/plain": [
       "array([0, 1, 1, 0, 1, 1, 0, 1, 1, 0, 0, 1, 0, 1, 0, 0, 1, 1, 1, 1, 1, 0,\n",
       "       0, 1, 1, 0, 1, 1, 0, 1, 1, 0, 1, 1, 1, 0, 1, 1, 1, 0, 0, 1, 0, 1,\n",
       "       1, 1, 1, 0, 0, 0, 1, 0, 0, 1, 0, 0, 0, 0, 0, 1, 1, 0, 0, 0, 0, 1,\n",
       "       1, 0, 0, 1, 1, 0, 0, 0, 1, 1, 0, 0, 1, 0, 1, 0, 0, 1, 1, 0, 1, 0,\n",
       "       1, 0, 1, 0, 1, 1, 1, 1, 0, 1, 0, 0])"
      ]
     },
     "execution_count": 19,
     "metadata": {},
     "output_type": "execute_result"
    }
   ],
   "source": [
    "import numpy as np\n",
    "a = np.random.randint(0,2,100)\n",
    "a"
   ]
  },
  {
   "cell_type": "markdown",
   "metadata": {},
   "source": [
    "Tỉ lệ p là:"
   ]
  },
  {
   "cell_type": "code",
   "execution_count": 20,
   "metadata": {},
   "outputs": [
    {
     "data": {
      "text/plain": [
       "0.52"
      ]
     },
     "execution_count": 20,
     "metadata": {},
     "output_type": "execute_result"
    }
   ],
   "source": [
    "a.sum()/ a.size"
   ]
  },
  {
   "cell_type": "markdown",
   "metadata": {},
   "source": [
    "## Biến xếp hạng\n",
    "Biểu diễn bằng tỉ lệ.  \n",
    "Thường được mã hoá bằng những con số như 0, 1, 2,...  \n",
    "### Vấn đề là khoảng cách giữa 2 số mã hoá có thực sự cân bằng không?  \n",
    "Ví dụ như:  \n",
    "\n",
    "|Nhóm | HA bình thường | Tiền THA | THA độ I | THA độ II |\n",
    "|-----|:--------------:|:--------:|:--------:|:---------:|\n",
    "|Mã|0|1|2|3|\n",
    "\n",
    "Nếu chúng ta chỉ phân nhóm thôi, thì việc mã hoá không sao. Nhưng nếu cho vào hệ thống tính điểm thì cần xem lại khoảng cách giữa 2 con số được mã hoá."
   ]
  },
  {
   "cell_type": "code",
   "execution_count": 22,
   "metadata": {},
   "outputs": [
    {
     "data": {
      "text/plain": [
       "array([3, 0, 3, 2, 0, 0, 0, 1, 2, 1, 3, 3, 1, 1, 1, 3, 3, 2, 0, 3, 0, 0,\n",
       "       2, 1, 1, 2, 3, 1, 1, 1, 1, 1, 1, 0, 2, 3, 2, 3, 2, 2, 0, 2, 2, 0,\n",
       "       2, 3, 2, 0, 3, 3, 2, 2, 3, 1, 0, 2, 0, 3, 3, 1, 0, 1, 1, 0, 0, 3,\n",
       "       1, 1, 3, 1, 0, 3, 1, 3, 2, 0, 0, 3, 0, 3, 1, 3, 2, 2, 3, 1, 2, 2,\n",
       "       1, 1, 0, 1, 1, 1, 3, 3, 1, 0, 1, 2])"
      ]
     },
     "execution_count": 22,
     "metadata": {},
     "output_type": "execute_result"
    }
   ],
   "source": [
    "b = np.random.randint(0,4,100)\n",
    "b"
   ]
  },
  {
   "cell_type": "markdown",
   "metadata": {},
   "source": [
    "## Biến phân nhóm\n",
    "Cũng được biểu diễn bằng tần số f và thường được mã hoá.  \n",
    "Khác với Ordinal là các nhóm không có liên quan với nhau.  \n",
    "Một trong những cách để phân tích biến phân nhóm là one-hot-encoding."
   ]
  },
  {
   "cell_type": "code",
   "execution_count": 37,
   "metadata": {},
   "outputs": [
    {
     "data": {
      "text/html": [
       "<div>\n",
       "<style scoped>\n",
       "    .dataframe tbody tr th:only-of-type {\n",
       "        vertical-align: middle;\n",
       "    }\n",
       "\n",
       "    .dataframe tbody tr th {\n",
       "        vertical-align: top;\n",
       "    }\n",
       "\n",
       "    .dataframe thead th {\n",
       "        text-align: right;\n",
       "    }\n",
       "</style>\n",
       "<table border=\"1\" class=\"dataframe\">\n",
       "  <thead>\n",
       "    <tr style=\"text-align: right;\">\n",
       "      <th></th>\n",
       "      <th>categorical</th>\n",
       "      <th>age</th>\n",
       "    </tr>\n",
       "  </thead>\n",
       "  <tbody>\n",
       "    <tr>\n",
       "      <th>0</th>\n",
       "      <td>dog</td>\n",
       "      <td>10 mo</td>\n",
       "    </tr>\n",
       "    <tr>\n",
       "      <th>1</th>\n",
       "      <td>cat</td>\n",
       "      <td>5 mo</td>\n",
       "    </tr>\n",
       "    <tr>\n",
       "      <th>2</th>\n",
       "      <td>bird</td>\n",
       "      <td>1 yr</td>\n",
       "    </tr>\n",
       "  </tbody>\n",
       "</table>\n",
       "</div>"
      ],
      "text/plain": [
       "  categorical    age\n",
       "0         dog  10 mo\n",
       "1         cat   5 mo\n",
       "2        bird   1 yr"
      ]
     },
     "execution_count": 37,
     "metadata": {},
     "output_type": "execute_result"
    }
   ],
   "source": [
    "import pandas as pd\n",
    "age = np.random.choice([\"10 mo\", \"1 yr\", \"5 mo\"],3, replace=False)\n",
    "animals = ['dog','cat','bird']\n",
    "df = pd.DataFrame({'categorical': animals,'age': age})\n",
    "df"
   ]
  },
  {
   "cell_type": "markdown",
   "metadata": {},
   "source": [
    "### Với *One hot encoding*, các nhóm sẽ độc lập và không còn tương tác. Chúng ta có thể dễ dàng phân tích và xây hệ thống tính điểm hơn."
   ]
  },
  {
   "cell_type": "code",
   "execution_count": 43,
   "metadata": {},
   "outputs": [
    {
     "data": {
      "text/html": [
       "<div>\n",
       "<style scoped>\n",
       "    .dataframe tbody tr th:only-of-type {\n",
       "        vertical-align: middle;\n",
       "    }\n",
       "\n",
       "    .dataframe tbody tr th {\n",
       "        vertical-align: top;\n",
       "    }\n",
       "\n",
       "    .dataframe thead th {\n",
       "        text-align: right;\n",
       "    }\n",
       "</style>\n",
       "<table border=\"1\" class=\"dataframe\">\n",
       "  <thead>\n",
       "    <tr style=\"text-align: right;\">\n",
       "      <th></th>\n",
       "      <th>age</th>\n",
       "      <th>is_bird</th>\n",
       "      <th>is_cat</th>\n",
       "      <th>is_dog</th>\n",
       "    </tr>\n",
       "  </thead>\n",
       "  <tbody>\n",
       "    <tr>\n",
       "      <th>0</th>\n",
       "      <td>10 mo</td>\n",
       "      <td>0</td>\n",
       "      <td>0</td>\n",
       "      <td>1</td>\n",
       "    </tr>\n",
       "    <tr>\n",
       "      <th>1</th>\n",
       "      <td>5 mo</td>\n",
       "      <td>0</td>\n",
       "      <td>1</td>\n",
       "      <td>0</td>\n",
       "    </tr>\n",
       "    <tr>\n",
       "      <th>2</th>\n",
       "      <td>1 yr</td>\n",
       "      <td>1</td>\n",
       "      <td>0</td>\n",
       "      <td>0</td>\n",
       "    </tr>\n",
       "  </tbody>\n",
       "</table>\n",
       "</div>"
      ],
      "text/plain": [
       "     age  is_bird  is_cat  is_dog\n",
       "0  10 mo        0       0       1\n",
       "1   5 mo        0       1       0\n",
       "2   1 yr        1       0       0"
      ]
     },
     "execution_count": 43,
     "metadata": {},
     "output_type": "execute_result"
    }
   ],
   "source": [
    "df['categorical'] = pd.Categorical(df['categorical'])\n",
    "pd.get_dummies(df, prefix=\"is\", columns=['categorical'])"
   ]
  },
  {
   "cell_type": "markdown",
   "metadata": {},
   "source": [
    "# Plotting cho các nhóm biến rời rạc"
   ]
  },
  {
   "cell_type": "markdown",
   "metadata": {},
   "source": [
    "Chủ yếu là bar plot.  \n",
    "- Thường dùng để biểu diễn tần số. (Frequency Bar plot)\n",
    "- Có thể dùng stack bar plot để biểu diễn một sub-group khác.\n",
    "- Có thể thêm error bar để biểu diễn khoảng tin cậy 95% của con số.\n",
    "- Khoảng cách giữa 2 bar đôi khi cũng có ý nghĩa.\n",
    "    - Biến nhị phân: 2 bar nên cách nhau.\n",
    "    - Biến xếp hạng: khoảng cách giữa 2 bar có thể bằng nhau hoặc khác nhau.\n",
    "    - Biến phân nhóm: 2 bar nên sát nhau"
   ]
  },
  {
   "cell_type": "markdown",
   "metadata": {},
   "source": [
    "### Hình này không phải frequency bar plot, mà là biểu diễn trung bình và độ lệch chuẩn của group 1 đến group 5, và có sub-group là giới tính.\n",
    "### Tuy nhiên bản chất cũng tương tự."
   ]
  },
  {
   "cell_type": "code",
   "execution_count": 46,
   "metadata": {},
   "outputs": [
    {
     "data": {
      "image/png": "[encoded data removed]",
      "text/plain": [
       "<IPython.core.display.Image object>"
      ]
     },
     "execution_count": 46,
     "metadata": {},
     "output_type": "execute_result"
    }
   ],
   "source": [
    "from IPython.display import Image\n",
    "Image('https://matplotlib.org/_images/sphx_glr_bar_stacked_001.png')"
   ]
  }
 ],
 "metadata": {
  "kernelspec": {
   "display_name": "Python 3",
   "language": "python",
   "name": "python3"
  },
  "language_info": {
   "codemirror_mode": {
    "name": "ipython",
    "version": 3
   },
   "file_extension": ".py",
   "mimetype": "text/x-python",
   "name": "python",
   "nbconvert_exporter": "python",
   "pygments_lexer": "ipython3",
   "version": "3.7.6"
  }
 },
 "nbformat": 4,
 "nbformat_minor": 4
}
