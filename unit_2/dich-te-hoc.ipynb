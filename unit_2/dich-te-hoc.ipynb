{
 "cells": [
  {
   "cell_type": "markdown",
   "metadata": {},
   "source": [
    "# <center>DỊCH TỄ HỌC</center>\n",
    "\n",
    "><div class=\"alert alert-block alert-info\"> Notebook nên được chạy trong môi trường <b>INTERACTIVE</b> để thực hành\n",
    "</div>\n",
    "\n",
    "---\n",
    "## Prevalence - Tỉ suất hiện mắc\n",
    "Ví dụ:  \n",
    "\n",
    "|     |Free of CVD|History of CVD|Total|\n",
    "|-----|-----------|--------------|-----|\n",
    "|Men  |       1548|           244| 1792|\n",
    "|Women|       1872|           135| 2007|\n",
    "|Total|       3420|           379| 3799|\n",
    "*CVD: Cardio Vascular Disease* \n",
    "\n",
    "Tỉ suất hiện mắc của CVD trong nhóm nam là:"
   ]
  },
  {
   "cell_type": "code",
   "execution_count": null,
   "metadata": {},
   "outputs": [],
   "source": []
  },
  {
   "cell_type": "markdown",
   "metadata": {},
   "source": [
    "Tỉ suất hiện mắc của CVD trong nhóm nữ là:"
   ]
  },
  {
   "cell_type": "code",
   "execution_count": null,
   "metadata": {},
   "outputs": [],
   "source": []
  },
  {
   "cell_type": "markdown",
   "metadata": {},
   "source": [
    "Tỉ suất hiện mắc của CVD chung là:"
   ]
  },
  {
   "cell_type": "code",
   "execution_count": null,
   "metadata": {},
   "outputs": [],
   "source": []
  },
  {
   "cell_type": "markdown",
   "metadata": {},
   "source": [
    "---\n",
    "## Incidence - Tỉ suất mới mắc\n",
    "dùng đơn vị người-thời gian (như người-năm)  \n",
    "$$ I = \\frac{\\text{số người mới mắc bệnh}}{\\text{Tổng thời gian chưa mắc bệnh}}$$\n",
    "Ví dụ:\n",
    "\n",
    "|     |Develop CVD|Total Follow-Up Time(years)|\n",
    "|-----|-----------|---------------------------|\n",
    "|Men  |190        |9984                       |\n",
    "|Women|119        |12,153                     |\n",
    "|Total|309        |22,137                     |\n",
    "\n",
    "Tỉ suất mới mắc của nam là:"
   ]
  },
  {
   "cell_type": "code",
   "execution_count": null,
   "metadata": {},
   "outputs": [],
   "source": []
  },
  {
   "cell_type": "markdown",
   "metadata": {},
   "source": [
    "Tỉ suất mới mắc của nữ là:"
   ]
  },
  {
   "cell_type": "code",
   "execution_count": null,
   "metadata": {},
   "outputs": [],
   "source": []
  },
  {
   "cell_type": "markdown",
   "metadata": {},
   "source": [
    "Tỉ suất mới mắc của chung là:"
   ]
  },
  {
   "cell_type": "code",
   "execution_count": null,
   "metadata": {},
   "outputs": [],
   "source": []
  },
  {
   "cell_type": "markdown",
   "metadata": {},
   "source": [
    "---\n",
    "## So sánh Prevalence và Incidence của 2 nhóm\n",
    "Dùng **Relative Risk (RR)** hoặc **Odds Ratio (OR)**\n",
    "\n",
    "|     |Free of CVD|History of CVD|Total|\n",
    "|-----|-----------|--------------|-----|\n",
    "|Men  |       1548|           244| 1792|\n",
    "|Women|       1872|           135| 2007|\n",
    "|Total|       3420|           379| 3799|\n",
    "\n",
    "RR của nam so với nữ là:"
   ]
  },
  {
   "cell_type": "code",
   "execution_count": null,
   "metadata": {},
   "outputs": [],
   "source": []
  },
  {
   "cell_type": "markdown",
   "metadata": {},
   "source": [
    "OR của nam so với nữ là:"
   ]
  },
  {
   "cell_type": "code",
   "execution_count": null,
   "metadata": {},
   "outputs": [],
   "source": []
  },
  {
   "cell_type": "markdown",
   "metadata": {},
   "source": [
    "---\n",
    "## Number Needed to Treat/Harm  \n",
    "Khi yếu tố phơi nhiễm có quan hệ nhân quả với kết cục, thì con số NNT này có ý nghĩa diễn giải.  \n",
    "$$ \\text{NNT} = \\frac{1}{\\text{Risk Difference}}$$\n",
    "$$ \\text{Risk Difference} = P_1 - P_2 $$\n",
    "\n",
    "|                                      |   Died|Not Died|\n",
    "|--------------------------------------|-------|--------|\n",
    "|treated with antiretroviral therapy   |    10 |     67 |\n",
    "|treated without antiretroviral therapy|    77 |    363 |\n",
    "\n",
    "RD là:"
   ]
  },
  {
   "cell_type": "code",
   "execution_count": 4,
   "metadata": {},
   "outputs": [
    {
     "data": {
      "text/plain": [
       "-0.04512987012987013"
      ]
     },
     "execution_count": 4,
     "metadata": {},
     "output_type": "execute_result"
    }
   ],
   "source": [
    "(10/(10+67)) - (77/(77+363))"
   ]
  },
  {
   "cell_type": "markdown",
   "metadata": {},
   "source": [
    "NNT là:"
   ]
  },
  {
   "cell_type": "code",
   "execution_count": 6,
   "metadata": {},
   "outputs": [
    {
     "data": {
      "text/plain": [
       "-22.158273381294965"
      ]
     },
     "execution_count": 6,
     "metadata": {},
     "output_type": "execute_result"
    }
   ],
   "source": [
    "1/ ((10/(10+67)) - (77/(77+363)))"
   ]
  },
  {
   "cell_type": "markdown",
   "metadata": {},
   "source": [
    "Trong Khoảng thời gian nghiên cứu, Cần dùng antiretroviral therapy với 23 người thì mới cứu sống 1 người.\n",
    "\n",
    "---\n",
    "## Khi nào dùng OR / RR?\n",
    "\n",
    "Dùng **OR** nhiều hơn khi:  \n",
    "Trong nghiên cứu bệnh chứng, thường được dùng trong nghiên cứu bệnh hiếm, ít gặp.  \n",
    "Vì nhóm chứng và nhóm bệnh có cỡ mẫu giống nhau, nên P 2 nhóm có thể không khác nhau nhiều.\n",
    "\n",
    "---\n",
    "## Incidence có vấn đề gì ko?\n",
    "\n",
    "Vấn đề Censor:  \n",
    "Một số người trong mẫu nghiên cứu không theo dõi được vì nhiều lý do.  \n",
    "Họ sẽ bị censor, không nằm trong mẫu số trong công thức, dẫn đến sai số.\n",
    "Phương pháp tốt hơn là dùng Survival Analysis."
   ]
  }
 ],
 "metadata": {
  "kernelspec": {
   "display_name": "Python 3",
   "language": "python",
   "name": "python3"
  },
  "language_info": {
   "codemirror_mode": {
    "name": "ipython",
    "version": 3
   },
   "file_extension": ".py",
   "mimetype": "text/x-python",
   "name": "python",
   "nbconvert_exporter": "python",
   "pygments_lexer": "ipython3",
   "version": "3.8.0"
  }
 },
 "nbformat": 4,
 "nbformat_minor": 4
}
