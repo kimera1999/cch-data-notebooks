{
 "cells": [
  {
   "cell_type": "markdown",
   "metadata": {},
   "source": [
    "# <center><b>NGÔN NGỮ MARKDOWN</b></center>"
   ]
  },
  {
   "cell_type": "markdown",
   "metadata": {},
   "source": [
    "Markdown là ngôn ngữ dùng để làm màu mè thêm những dòng chữ đơn sơ.  \n",
    "**CHÚ Ý:** dùng jupyterlab để xem source"
   ]
  },
  {
   "cell_type": "markdown",
   "metadata": {},
   "source": [
    "# 1 dấu # là chữ to nhất\n",
    "## 2 dấu # chữ nhỏ hơn\n",
    "### HEADING 3\n",
    "#### HEADING 4\n",
    "##### HEADING 5\n",
    "###### 6 dấu # chữ nhỏ nhất"
   ]
  },
  {
   "cell_type": "markdown",
   "metadata": {},
   "source": [
    "---\n",
    "để xuống dòng [space] [space] [enter]  \n",
    "xuống dòng 2  "
   ]
  },
  {
   "cell_type": "markdown",
   "metadata": {},
   "source": [
    "---\n",
    "*italic*  \n",
    "**bold**  \n",
    "***italic + bold***  "
   ]
  },
  {
   "cell_type": "markdown",
   "metadata": {},
   "source": [
    "---\n",
    "\n",
    "~~strikethrough với 2 dấu ngã trước và sau đoạn text~~"
   ]
  },
  {
   "cell_type": "markdown",
   "metadata": {},
   "source": [
    "---\n",
    ">blockquote  \n",
    ">continue.."
   ]
  },
  {
   "cell_type": "markdown",
   "metadata": {},
   "source": [
    "---\n",
    "1. Ordered list item 1\n",
    "    - Unordered list item 1.1  \n",
    "        info\n",
    "    - Unordered list item 1.2\n",
    "2. Ordered list item 2\n",
    "    1. Ordered list item 2.1  \n",
    "        info\n",
    "    2. Ordered list item 2.2"
   ]
  },
  {
   "cell_type": "markdown",
   "metadata": {},
   "source": [
    "---\n",
    "`Đây là mã code (kiểu chữ MonoSpace)`\n",
    "\n",
    "---\n",
    "[Đường link tới google.com](www.google.com) \n",
    "\n",
    "---\n",
    "Chèn hình ảnh, tuy nhiên không chỉnh size được.\n",
    "![Text hiện lên khi hình không tải về được](https://images.unsplash.com/photo-1576078766417-80f4b730120c?ixlib=rb-1.2.1&ixid=eyJhcHBfaWQiOjEyMDd9&auto=format&fit=crop&w=1246&q=80)"
   ]
  },
  {
   "cell_type": "markdown",
   "metadata": {},
   "source": [
    "---\n",
    "Bảng dữ liệu (Table), có thể align cột.\n",
    "\n",
    "| Syntax      | Description | Test Text     |\n",
    "| :---        |    :----:   |          ---: |\n",
    "| Header      | Title       | Here's this   |\n",
    "| Paragraph   | Text        | And more      |\n",
    "|left|center|right|"
   ]
  },
  {
   "cell_type": "markdown",
   "metadata": {},
   "source": [
    "---\n",
    "Hiện nhiều dòng code (Code block).  \n",
    "Có thể cụ thể tên type, từ đó jupyterlab có thể tô màu lên.\n",
    "\n",
    "```json\n",
    "{\n",
    "  \"firstName\": \"John\",\n",
    "  \"lastName\": \"Smith\",\n",
    "  \"age\": 25\n",
    "}\n",
    "``` "
   ]
  },
  {
   "cell_type": "markdown",
   "metadata": {},
   "source": [
    "---\n",
    "[Internal link (back to heading-1)](#HEADING-1)"
   ]
  },
  {
   "cell_type": "markdown",
   "metadata": {},
   "source": [
    "---\n",
    "\n",
    "- [x] Liệt kê Task list\n",
    "- [ ] Không phải form nên không tick được\n",
    "- [ ] bla, bla,.."
   ]
  },
  {
   "cell_type": "markdown",
   "metadata": {},
   "source": [
    "---\n",
    "# MỘT SỐ HTML TAGS CẦN THIẾT\n",
    "---\n",
    "`<center></center>`  \n",
    "`<font color=\"red\"></font>`  \n",
    "`<code></code>`  \n",
    "`<img src=\"image-link\" width=300 height=300>`"
   ]
  },
  {
   "cell_type": "markdown",
   "metadata": {},
   "source": [
    "---\n",
    "# MỘT SỐ ALERT BLOCKS\n",
    "<div class=\"alert alert-block alert-info\">\n",
    "<b>Tip:</b> Use blue boxes (alert-info) for tips and notes. \n",
    "If it’s a note, you don’t have to include the word “Note”.\n",
    "</div>"
   ]
  },
  {
   "cell_type": "markdown",
   "metadata": {},
   "source": [
    "<div class=\"alert alert-block alert-warning\">\n",
    "<b>Example:</b> Use yellow boxes for examples that are not \n",
    "inside code cells, or use for mathematical formulas if needed.\n",
    "</div>"
   ]
  },
  {
   "cell_type": "markdown",
   "metadata": {},
   "source": [
    "<div class=\"alert alert-block alert-success\">\n",
    "<b>Up to you:</b> Use green boxes sparingly, and only for some specific \n",
    "purpose that the other boxes can't cover. For example, if you have a lot \n",
    "of related content to link to, maybe you decide to use green boxes for \n",
    "related links from each section of a notebook.\n",
    "</div>"
   ]
  },
  {
   "cell_type": "markdown",
   "metadata": {},
   "source": [
    "<div class=\"alert alert-block alert-danger\">\n",
    "<b>Just don't:</b> In general, avoid the red boxes. These should only be\n",
    "used for actions that might cause data loss or another major issue.\n",
    "</div>"
   ]
  },
  {
   "cell_type": "markdown",
   "metadata": {},
   "source": [
    "---\n",
    "# VIẾT CÔNG THỨC TOÁN HỌC BẰNG LATEX\n",
    "[Hướng dẫn LaTeX](https://en.wikibooks.org/wiki/LaTeX/Mathematics)  \n",
    "Inline LaTeX: `$ <latex code> $`  \n",
    "LaTeX block: `$$ <latex code> $$`"
   ]
  }
 ],
 "metadata": {
  "kernelspec": {
   "display_name": "Python 3",
   "language": "python",
   "name": "python3"
  },
  "language_info": {
   "codemirror_mode": {
    "name": "ipython",
    "version": 3
   },
   "file_extension": ".py",
   "mimetype": "text/x-python",
   "name": "python",
   "nbconvert_exporter": "python",
   "pygments_lexer": "ipython3",
   "version": "3.8.0"
  }
 },
 "nbformat": 4,
 "nbformat_minor": 4
}
